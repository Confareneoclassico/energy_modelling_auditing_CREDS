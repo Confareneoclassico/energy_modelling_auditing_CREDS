{
 "cells": [
  {
   "cell_type": "markdown",
   "metadata": {},
   "source": [
    "# Uncertainty appraisal provides useful information for the management of manual grape harvest"
   ]
  },
  {
   "cell_type": "markdown",
   "metadata": {},
   "source": [
    "## Import all the relevant libraries"
   ]
  },
  {
   "cell_type": "code",
   "execution_count": 1,
   "metadata": {},
   "outputs": [
    {
     "name": "stdout",
     "output_type": "stream",
     "text": [
      "Requirement already satisfied: joypy in /opt/anaconda3/lib/python3.7/site-packages (0.2.6)\n",
      "Requirement already satisfied: scipy>=0.11.0 in /opt/anaconda3/lib/python3.7/site-packages (from joypy) (1.7.2)\n",
      "Requirement already satisfied: pandas>=0.20.0 in /opt/anaconda3/lib/python3.7/site-packages (from joypy) (0.25.3)\n",
      "Requirement already satisfied: matplotlib in /opt/anaconda3/lib/python3.7/site-packages (from joypy) (3.2.1)\n",
      "Requirement already satisfied: numpy>=1.16.5 in /opt/anaconda3/lib/python3.7/site-packages (from joypy) (1.21.2)\n",
      "Requirement already satisfied: pytz>=2017.2 in /opt/anaconda3/lib/python3.7/site-packages (from pandas>=0.20.0->joypy) (2021.3)\n",
      "Requirement already satisfied: python-dateutil>=2.6.1 in /opt/anaconda3/lib/python3.7/site-packages (from pandas>=0.20.0->joypy) (2.8.2)\n",
      "Requirement already satisfied: cycler>=0.10 in /opt/anaconda3/lib/python3.7/site-packages (from matplotlib->joypy) (0.11.0)\n",
      "Requirement already satisfied: kiwisolver>=1.0.1 in /opt/anaconda3/lib/python3.7/site-packages (from matplotlib->joypy) (1.3.2)\n",
      "Requirement already satisfied: pyparsing!=2.0.4,!=2.1.2,!=2.1.6,>=2.0.1 in /opt/anaconda3/lib/python3.7/site-packages (from matplotlib->joypy) (3.0.6)\n",
      "Requirement already satisfied: six>=1.5 in /opt/anaconda3/lib/python3.7/site-packages (from python-dateutil>=2.6.1->pandas>=0.20.0->joypy) (1.16.0)\n"
     ]
    }
   ],
   "source": [
    "import joypy\n",
    "from matplotlib import cm\n",
    "import matplotlib.pyplot as plt\n",
    "import matplotlib.patches as mpatches\n",
    "import numpy as np\n",
    "import pandas as pd\n",
    "from scipy import special\n",
    "import seaborn as sns\n",
    "import sobol_seq"
   ]
  },
  {
   "cell_type": "markdown",
   "metadata": {},
   "source": [
    "## Import and pre-processing of the data sets"
   ]
  },
  {
   "cell_type": "markdown",
   "metadata": {},
   "source": [
    "### Import the datasets"
   ]
  },
  {
   "cell_type": "code",
   "execution_count": 2,
   "metadata": {},
   "outputs": [],
   "source": [
    "wineyard = pd.concat([pd.read_csv('max min.csv',header=0,index_col=0,usecols=[0,3,4]),\n",
    "                      pd.read_csv('dati dist normale.csv',header=0,index_col=0,usecols=[0,3,4]),\n",
    "                     pd.read_csv('rese max min.csv',header=0,index_col=0,usecols=[0,1,2]),\n",
    "                     pd.read_csv('rese media sd.csv',header=0,index_col=0),\n",
    "                     pd.read_csv('prod max min.csv',header=0,index_col=0),\n",
    "                     pd.read_csv('prod mean sd.csv',header=0,index_col=0)],axis=1)\n",
    "wineyard.columns =['Date_max','Date_min','Date_avg','Date_std',\n",
    "                   'Yield_max','Yield_min','Yield_avg','Yield_std',\n",
    "                   'Productivity_max','Productivity_min','Productivity_avg','Productivity_std']\n",
    "# wineyard['Productivity_max']=wineyard.Yield_max/pd.read_csv('max min.csv',index_col=0,header=0,usecols=[0,1,2]).iloc[:,1]\n",
    "# wineyard['Productivity_min']=wineyard.Yield_min/pd.read_csv('max min.csv',index_col=0,header=0,usecols=[0,1,2]).iloc[:,0]\n",
    "# wineyard['Productivity_avg']=wineyard[['Yield_max','Yield_min']].mean(axis=1)\n",
    "# wineyard['Productivity_std']=np.sqrt(wineyard.Yield_avg)\n",
    "rain = pd.read_csv('pioggia2.csv',header=0,index_col=0).loc[229:306] #Cap it to the days one will be actually using\n",
    "rain.columns = ['p_5_mm','p_15_mm']\n",
    "# bottle_prices = pd.read_excel('vitigni vini prezzi.xlsx',header=0,usecols=[1,2]).sort_values(by='Prezzo',ascending=False)"
   ]
  },
  {
   "cell_type": "markdown",
   "metadata": {},
   "source": [
    "Set the range for the min,max hour-man requirement"
   ]
  },
  {
   "cell_type": "code",
   "execution_count": 3,
   "metadata": {},
   "outputs": [
    {
     "data": {
      "text/plain": [
       "[8, 17]"
      ]
     },
     "execution_count": 3,
     "metadata": {},
     "output_type": "execute_result"
    }
   ],
   "source": [
    "hourman = pd.read_csv('max min.csv',header=0,index_col=0,usecols=[0,1,2])\n",
    "hourman_ranges = [round(hourman['OU min'].max()/10),round(hourman['OU max'].max()/8)]\n",
    "hourman_ranges"
   ]
  },
  {
   "cell_type": "markdown",
   "metadata": {},
   "source": [
    "These lines are used to define the truncation thresholds for the yields and productivity distributions, which is assumed as the field showing the largest ration (min, max - avg)/std -> 1.2 std"
   ]
  },
  {
   "cell_type": "code",
   "execution_count": 4,
   "metadata": {},
   "outputs": [],
   "source": [
    "wineyard['Yield_diff_min']=(np.abs(wineyard.Yield_min-wineyard.Yield_avg)/wineyard.Yield_std).round(2)\n",
    "wineyard['Yield_diff_max']=(np.abs(wineyard.Yield_max-wineyard.Yield_avg)/wineyard.Yield_std).round(2)\n",
    "wineyard['Productivity_diff_min']=(np.abs(wineyard.Productivity_min-wineyard.Productivity_avg)/wineyard.Productivity_std).round(2)\n",
    "wineyard['Productivity_diff_max']=(np.abs(wineyard.Productivity_max-wineyard.Productivity_avg)/wineyard.Productivity_std).round(2)"
   ]
  },
  {
   "cell_type": "code",
   "execution_count": 5,
   "metadata": {},
   "outputs": [],
   "source": [
    "wineyard['Date_lower']= 229 #August 16\n",
    "wineyard['Date_upper']= 305 #October 31, leap year\n",
    "\n",
    "wineyard['Yield_lower']= wineyard.Yield_avg-wineyard.Yield_std*1.2 #Driven by the max possible variability across wineyards\n",
    "wineyard['Yield_upper']= wineyard.Yield_avg+wineyard.Yield_std*1.2 #Driven by the max possible variability across wineyards\n",
    "wineyard['Productivity_lower']= wineyard.Productivity_avg-wineyard.Productivity_std*1.2 #Driven by the max possible variability across wineyards\n",
    "wineyard['Productivity_upper']= wineyard.Productivity_avg+wineyard.Productivity_std*1.2 #Driven by the max possible variability across wineyards\n",
    "\n",
    "wineyard.index = [r+1 for r in range(len(wineyard))]\n",
    "# wineyard['vitigni']=pd.read_csv('vigneti vitigni.csv',header=0,index_col=0,usecols=[0,1])\n",
    "# wineyard=wineyard.set_index([wineyard.index,'vitigni'])"
   ]
  },
  {
   "cell_type": "markdown",
   "metadata": {},
   "source": [
    "The base matrix for the distribution is then imported"
   ]
  },
  {
   "cell_type": "code",
   "execution_count": 6,
   "metadata": {},
   "outputs": [],
   "source": [
    "# trigger manpower distribution, trigger date distribution, \n",
    "# manpower normal distribution, manpower uniform distribution, date normal distribution, date manpower distribution\n",
    "# trigger rain, rain 5 mm, rain 15 mm\n",
    "# trigger extra hours, work on Sundays, weekly call\n",
    "sampleTot = sobol_seq.i4_sobol_generate(40,-1+2**14).T"
   ]
  },
  {
   "cell_type": "markdown",
   "metadata": {},
   "source": [
    "And the individual distributions produced as per the features agreed"
   ]
  },
  {
   "cell_type": "code",
   "execution_count": 7,
   "metadata": {},
   "outputs": [],
   "source": [
    "sample_rain_5 = []\n",
    "sample_rain_15 = []\n",
    "sample_rain_5B = []\n",
    "sample_rain_15B = []\n",
    "for i,row in rain.iterrows():\n",
    "    sample_rain_5.append(rain.loc[i,'p_5_mm']<sampleTot[28])\n",
    "    sample_rain_15.append(rain.loc[i,'p_15_mm']<sampleTot[28])\n",
    "    sample_rain_5B.append(rain.loc[i,'p_5_mm']<sampleTot[29])\n",
    "    sample_rain_15B.append(rain.loc[i,'p_15_mm']<sampleTot[29])\n",
    "sample_rain = pd.DataFrame(([np.concatenate(sample_rain_5),np.concatenate(sample_rain_15)]),index=['rain_5mm','rain_15mm']).T\n",
    "sample_rainB = pd.DataFrame(([np.concatenate(sample_rain_5B),np.concatenate(sample_rain_15B)]),index=['rain_5mm','rain_15mm']).T\n",
    "sample_rain.index = [ri for ri in rain.index for r in range(len(sampleTot.T))]\n",
    "sample_rain['random_index']=[r for q in range(len(rain)) for r in range(len(sampleTot.T))]\n",
    "sample_rain = sample_rain.set_index([sample_rain.index,'random_index'])\n",
    "sample_rainB.index=sample_rain.index\n",
    "# sample_rain"
   ]
  },
  {
   "cell_type": "code",
   "execution_count": 8,
   "metadata": {},
   "outputs": [],
   "source": [
    "sample = pd.concat([pd.concat([pd.Series(wineyard.Yield_avg.loc[i]+np.sqrt(2)*wineyard.Yield_std.loc[i]*special.erfinv(\n",
    "    sampleTot[0]*special.erf((wineyard.Yield_upper.loc[i]-wineyard.Yield_avg.loc[i])/(np.sqrt(2)*wineyard.Yield_std.loc[i]))+\n",
    "    (1-sampleTot[0])*special.erf((wineyard.Yield_lower.loc[i]-wineyard.Yield_avg).loc[i]/(np.sqrt(2)*wineyard.Yield_std.loc[i]))))\n",
    "                    for i, row in wineyard.iterrows()]),\n",
    "        pd.concat([pd.Series(wineyard.Yield_min.loc[i]+(wineyard.Yield_max.loc[i]-wineyard.Yield_min.loc[i])*sampleTot[1])\n",
    "                    for i, row in wineyard.iterrows()]),\n",
    "                    pd.concat([pd.Series(wineyard.Productivity_avg.loc[i]+np.sqrt(2)*wineyard.Productivity_std.loc[i]*special.erfinv(\n",
    "    sampleTot[2]*special.erf((wineyard.Productivity_upper.loc[i]-wineyard.Productivity_avg.loc[i])/(np.sqrt(2)*wineyard.Productivity_std.loc[i]))+\n",
    "    (1-sampleTot[2])*special.erf((wineyard.Productivity_lower.loc[i]-wineyard.Productivity_avg).loc[i]/(np.sqrt(2)*wineyard.Productivity_std.loc[i]))))\n",
    "                    for i, row in wineyard.iterrows()]),\n",
    "        pd.concat([pd.Series(wineyard.Productivity_min.loc[i]+(wineyard.Productivity_max.loc[i]-wineyard.Productivity_min.loc[i])*sampleTot[3])\n",
    "                    for i, row in wineyard.iterrows()]),\n",
    "        pd.concat([pd.Series(wineyard.Date_avg.loc[i]+np.sqrt(2)*wineyard.Date_std.loc[i]*special.erfinv(\n",
    "    sampleTot[4]*special.erf((wineyard.Date_upper.loc[i]-wineyard.Date_avg.loc[i])/(np.sqrt(2)*wineyard.Date_std.loc[i]))+\n",
    "    (1-sampleTot[4])*special.erf((wineyard.Date_lower.loc[i]-wineyard.Date_avg).loc[i]/(np.sqrt(2)*wineyard.Date_std.loc[i])))).astype(int)\n",
    "                    for i, row in wineyard.iterrows()]),\n",
    "        pd.concat([pd.Series(wineyard.Date_min.loc[i]+(wineyard.Date_max.loc[i]-wineyard.Date_min.loc[i])*sampleTot[5]).astype(int)\n",
    "                    for i, row in wineyard.iterrows()])],axis=1)\n",
    "sample.columns = ['Yield_gaussian','Yield_uniform',\n",
    "                  'Productivity_gaussian','Productivity_uniform',\n",
    "                  'Date_gaussian','Date_uniform']\n",
    "sample.index = [wi for wi in wineyard.index for r in range(len(sampleTot.T))]\n",
    "sample['Yield_trigger']=sample.columns[np.tile(sampleTot[6].round(0).astype(int), len(wineyard))]\n",
    "sample['Productivity_trigger']=sample.columns[np.tile((sampleTot[7]+2).round(0).astype(int), len(wineyard))]\n",
    "sample['Date_trigger']=sample.columns[np.tile((sampleTot[8]+4).round(0).astype(int), len(wineyard))]\n",
    "sample['Workers']=np.tile((sampleTot[9]*(max(hourman_ranges)-min(hourman_ranges))+\\\n",
    "                                                  min(hourman_ranges)).round(0).astype(int), len(wineyard))\n",
    "sample['Rain_trigger']=sample_rain.columns[np.tile(sampleTot[10].round(0).astype(int), len(wineyard))]\n",
    "sample['Hours_extra']=np.tile(8+(sampleTot[11]).round(0).astype(int)*2, len(wineyard))\n",
    "sample['Sundays_work']=np.tile(sampleTot[12]<0.1, len(wineyard))\n",
    "sample['Sundays']=np.tile(pd.Series([[(q*7).astype(int)+229+7*r for r in range(11)] for q in sampleTot[13]]),len(wineyard))\n",
    "# sample['Weekly_call']=np.tile(sampleTot[12]<0.5, len(wineyard))\n",
    "sample['random_index']=[r for q in range(len(wineyard)) for r in range(len(sampleTot.T))]\n",
    "# sample = sample.set_index([pd.MultiIndex.from_tuples(sample.index.get_level_values(0)),'random_index'])\n",
    "sample = sample.set_index([sample.index,'random_index'])\n",
    "# sample\n",
    "\n",
    "sampleB = pd.concat([pd.concat([pd.Series(wineyard.Yield_avg.loc[i]+np.sqrt(2)*wineyard.Yield_std.loc[i]*special.erfinv(\n",
    "    sampleTot[14]*special.erf((wineyard.Yield_upper.loc[i]-wineyard.Yield_avg.loc[i])/(np.sqrt(2)*wineyard.Yield_std.loc[i]))+\n",
    "    (1-sampleTot[14])*special.erf((wineyard.Yield_lower.loc[i]-wineyard.Yield_avg).loc[i]/(np.sqrt(2)*wineyard.Yield_std.loc[i]))))\n",
    "                    for i, row in wineyard.iterrows()]),\n",
    "        pd.concat([pd.Series(wineyard.Yield_min.loc[i]+(wineyard.Yield_max.loc[i]-wineyard.Yield_min.loc[i])*sampleTot[15])\n",
    "                    for i, row in wineyard.iterrows()]),\n",
    "                    pd.concat([pd.Series(wineyard.Productivity_avg.loc[i]+np.sqrt(2)*wineyard.Productivity_std.loc[i]*special.erfinv(\n",
    "    sampleTot[16]*special.erf((wineyard.Productivity_upper.loc[i]-wineyard.Productivity_avg.loc[i])/(np.sqrt(2)*wineyard.Productivity_std.loc[i]))+\n",
    "    (1-sampleTot[16])*special.erf((wineyard.Productivity_lower.loc[i]-wineyard.Productivity_avg).loc[i]/(np.sqrt(2)*wineyard.Productivity_std.loc[i]))))\n",
    "                    for i, row in wineyard.iterrows()]),\n",
    "        pd.concat([pd.Series(wineyard.Productivity_min.loc[i]+(wineyard.Productivity_max.loc[i]-wineyard.Productivity_min.loc[i])*sampleTot[17])\n",
    "                    for i, row in wineyard.iterrows()]),\n",
    "        pd.concat([pd.Series(wineyard.Date_avg.loc[i]+np.sqrt(2)*wineyard.Date_std.loc[i]*special.erfinv(\n",
    "    sampleTot[18]*special.erf((wineyard.Date_upper.loc[i]-wineyard.Date_avg.loc[i])/(np.sqrt(2)*wineyard.Date_std.loc[i]))+\n",
    "    (1-sampleTot[18])*special.erf((wineyard.Date_lower.loc[i]-wineyard.Date_avg).loc[i]/(np.sqrt(2)*wineyard.Date_std.loc[i])))).astype(int)\n",
    "                    for i, row in wineyard.iterrows()]),\n",
    "        pd.concat([pd.Series(wineyard.Date_min.loc[i]+(wineyard.Date_max.loc[i]-wineyard.Date_min.loc[i])*sampleTot[19]).astype(int)\n",
    "                    for i, row in wineyard.iterrows()])],axis=1)\n",
    "sampleB.columns = ['Yield_gaussian','Yield_uniform',\n",
    "                  'Productivity_gaussian','Productivity_uniform',\n",
    "                  'Date_gaussian','Date_uniform']\n",
    "sampleB.index = [wi for wi in wineyard.index for r in range(len(sampleTot.T))]\n",
    "sampleB['Yield_trigger']=sampleB.columns[np.tile(sampleTot[20].round(0).astype(int), len(wineyard))]\n",
    "sampleB['Productivity_trigger']=sampleB.columns[np.tile((sampleTot[21]+2).round(0).astype(int), len(wineyard))]\n",
    "sampleB['Date_trigger']=sampleB.columns[np.tile((sampleTot[22]+4).round(0).astype(int), len(wineyard))]\n",
    "\n",
    "sampleB['Workers']=np.tile((sampleTot[23]*(max(hourman_ranges)-min(hourman_ranges))+\\\n",
    "                                                  min(hourman_ranges)).round(0).astype(int), len(wineyard))\n",
    "sampleB['Rain_trigger']=sample_rainB.columns[np.tile(sampleTot[24].round(0).astype(int), len(wineyard))]\n",
    "sampleB['Hours_extra']=np.tile(8+(sampleTot[25]).round(0).astype(int)*2, len(wineyard))\n",
    "sampleB['Sundays_work']=np.tile(sampleTot[26]<0.1, len(wineyard))\n",
    "sampleB['Sundays']=np.tile(pd.Series([[(q*7).astype(int)+229+7*r for r in range(11)] for q in sampleTot[27]]),len(wineyard))\n",
    "# sample['Weekly_call']=np.tile(sampleTot[12]<0.5, len(wineyard))\n",
    "sampleB['random_index']=[r for q in range(len(wineyard)) for r in range(len(sampleTot.T))]\n",
    "# sample = sample.set_index([pd.MultiIndex.from_tuples(sample.index.get_level_values(0)),'random_index'])\n",
    "sampleB = sampleB.set_index([sampleB.index,'random_index'])"
   ]
  },
  {
   "cell_type": "code",
   "execution_count": 9,
   "metadata": {},
   "outputs": [
    {
     "data": {
      "text/plain": [
       "count    16383.000000\n",
       "mean        71.081667\n",
       "std          3.529278\n",
       "min         64.340991\n",
       "25%         68.256848\n",
       "50%         71.081667\n",
       "75%         73.906485\n",
       "max         77.822343\n",
       "Name: Yield_gaussian, dtype: float64"
      ]
     },
     "execution_count": 9,
     "metadata": {},
     "output_type": "execute_result"
    }
   ],
   "source": [
    "sample.Yield_gaussian.groupby(level=1).sum().describe()"
   ]
  },
  {
   "cell_type": "code",
   "execution_count": 10,
   "metadata": {},
   "outputs": [
    {
     "data": {
      "text/plain": [
       "count    16383.00000\n",
       "mean        71.42000\n",
       "std          2.93285\n",
       "min         66.34062\n",
       "25%         68.88031\n",
       "50%         71.42000\n",
       "75%         73.95969\n",
       "max         76.49938\n",
       "Name: Yield_uniform, dtype: float64"
      ]
     },
     "execution_count": 10,
     "metadata": {},
     "output_type": "execute_result"
    }
   ],
   "source": [
    "sample.Yield_uniform.groupby(level=1).sum().describe()"
   ]
  },
  {
   "cell_type": "code",
   "execution_count": 11,
   "metadata": {},
   "outputs": [
    {
     "data": {
      "text/plain": [
       "12.45580151824133"
      ]
     },
     "execution_count": 11,
     "metadata": {},
     "output_type": "execute_result"
    }
   ],
   "source": [
    "sample.Yield_gaussian.groupby(level=1).sum().var()"
   ]
  },
  {
   "cell_type": "markdown",
   "metadata": {},
   "source": [
    "Produce the plot of the maturation dates distribution across wine yards"
   ]
  },
  {
   "cell_type": "code",
   "execution_count": 12,
   "metadata": {},
   "outputs": [
    {
     "name": "stderr",
     "output_type": "stream",
     "text": [
      "/opt/anaconda3/lib/python3.7/site-packages/pandas/plotting/_tools.py:307: MatplotlibDeprecationWarning: \n",
      "The rowNum attribute was deprecated in Matplotlib 3.2 and will be removed two minor releases later. Use ax.get_subplotspec().rowspan.start instead.\n",
      "  layout[ax.rowNum, ax.colNum] = ax.get_visible()\n",
      "/opt/anaconda3/lib/python3.7/site-packages/pandas/plotting/_tools.py:307: MatplotlibDeprecationWarning: \n",
      "The colNum attribute was deprecated in Matplotlib 3.2 and will be removed two minor releases later. Use ax.get_subplotspec().colspan.start instead.\n",
      "  layout[ax.rowNum, ax.colNum] = ax.get_visible()\n",
      "/opt/anaconda3/lib/python3.7/site-packages/pandas/plotting/_tools.py:307: MatplotlibDeprecationWarning: \n",
      "The rowNum attribute was deprecated in Matplotlib 3.2 and will be removed two minor releases later. Use ax.get_subplotspec().rowspan.start instead.\n",
      "  layout[ax.rowNum, ax.colNum] = ax.get_visible()\n",
      "/opt/anaconda3/lib/python3.7/site-packages/pandas/plotting/_tools.py:307: MatplotlibDeprecationWarning: \n",
      "The colNum attribute was deprecated in Matplotlib 3.2 and will be removed two minor releases later. Use ax.get_subplotspec().colspan.start instead.\n",
      "  layout[ax.rowNum, ax.colNum] = ax.get_visible()\n",
      "/opt/anaconda3/lib/python3.7/site-packages/pandas/plotting/_tools.py:307: MatplotlibDeprecationWarning: \n",
      "The rowNum attribute was deprecated in Matplotlib 3.2 and will be removed two minor releases later. Use ax.get_subplotspec().rowspan.start instead.\n",
      "  layout[ax.rowNum, ax.colNum] = ax.get_visible()\n",
      "/opt/anaconda3/lib/python3.7/site-packages/pandas/plotting/_tools.py:307: MatplotlibDeprecationWarning: \n",
      "The colNum attribute was deprecated in Matplotlib 3.2 and will be removed two minor releases later. Use ax.get_subplotspec().colspan.start instead.\n",
      "  layout[ax.rowNum, ax.colNum] = ax.get_visible()\n",
      "/opt/anaconda3/lib/python3.7/site-packages/pandas/plotting/_tools.py:307: MatplotlibDeprecationWarning: \n",
      "The rowNum attribute was deprecated in Matplotlib 3.2 and will be removed two minor releases later. Use ax.get_subplotspec().rowspan.start instead.\n",
      "  layout[ax.rowNum, ax.colNum] = ax.get_visible()\n",
      "/opt/anaconda3/lib/python3.7/site-packages/pandas/plotting/_tools.py:307: MatplotlibDeprecationWarning: \n",
      "The colNum attribute was deprecated in Matplotlib 3.2 and will be removed two minor releases later. Use ax.get_subplotspec().colspan.start instead.\n",
      "  layout[ax.rowNum, ax.colNum] = ax.get_visible()\n",
      "/opt/anaconda3/lib/python3.7/site-packages/pandas/plotting/_tools.py:307: MatplotlibDeprecationWarning: \n",
      "The rowNum attribute was deprecated in Matplotlib 3.2 and will be removed two minor releases later. Use ax.get_subplotspec().rowspan.start instead.\n",
      "  layout[ax.rowNum, ax.colNum] = ax.get_visible()\n",
      "/opt/anaconda3/lib/python3.7/site-packages/pandas/plotting/_tools.py:307: MatplotlibDeprecationWarning: \n",
      "The colNum attribute was deprecated in Matplotlib 3.2 and will be removed two minor releases later. Use ax.get_subplotspec().colspan.start instead.\n",
      "  layout[ax.rowNum, ax.colNum] = ax.get_visible()\n",
      "/opt/anaconda3/lib/python3.7/site-packages/pandas/plotting/_tools.py:307: MatplotlibDeprecationWarning: \n",
      "The rowNum attribute was deprecated in Matplotlib 3.2 and will be removed two minor releases later. Use ax.get_subplotspec().rowspan.start instead.\n",
      "  layout[ax.rowNum, ax.colNum] = ax.get_visible()\n",
      "/opt/anaconda3/lib/python3.7/site-packages/pandas/plotting/_tools.py:307: MatplotlibDeprecationWarning: \n",
      "The colNum attribute was deprecated in Matplotlib 3.2 and will be removed two minor releases later. Use ax.get_subplotspec().colspan.start instead.\n",
      "  layout[ax.rowNum, ax.colNum] = ax.get_visible()\n",
      "/opt/anaconda3/lib/python3.7/site-packages/pandas/plotting/_tools.py:307: MatplotlibDeprecationWarning: \n",
      "The rowNum attribute was deprecated in Matplotlib 3.2 and will be removed two minor releases later. Use ax.get_subplotspec().rowspan.start instead.\n",
      "  layout[ax.rowNum, ax.colNum] = ax.get_visible()\n",
      "/opt/anaconda3/lib/python3.7/site-packages/pandas/plotting/_tools.py:307: MatplotlibDeprecationWarning: \n",
      "The colNum attribute was deprecated in Matplotlib 3.2 and will be removed two minor releases later. Use ax.get_subplotspec().colspan.start instead.\n",
      "  layout[ax.rowNum, ax.colNum] = ax.get_visible()\n",
      "/opt/anaconda3/lib/python3.7/site-packages/pandas/plotting/_tools.py:307: MatplotlibDeprecationWarning: \n",
      "The rowNum attribute was deprecated in Matplotlib 3.2 and will be removed two minor releases later. Use ax.get_subplotspec().rowspan.start instead.\n",
      "  layout[ax.rowNum, ax.colNum] = ax.get_visible()\n",
      "/opt/anaconda3/lib/python3.7/site-packages/pandas/plotting/_tools.py:307: MatplotlibDeprecationWarning: \n",
      "The colNum attribute was deprecated in Matplotlib 3.2 and will be removed two minor releases later. Use ax.get_subplotspec().colspan.start instead.\n",
      "  layout[ax.rowNum, ax.colNum] = ax.get_visible()\n",
      "/opt/anaconda3/lib/python3.7/site-packages/pandas/plotting/_tools.py:307: MatplotlibDeprecationWarning: \n",
      "The rowNum attribute was deprecated in Matplotlib 3.2 and will be removed two minor releases later. Use ax.get_subplotspec().rowspan.start instead.\n",
      "  layout[ax.rowNum, ax.colNum] = ax.get_visible()\n",
      "/opt/anaconda3/lib/python3.7/site-packages/pandas/plotting/_tools.py:307: MatplotlibDeprecationWarning: \n",
      "The colNum attribute was deprecated in Matplotlib 3.2 and will be removed two minor releases later. Use ax.get_subplotspec().colspan.start instead.\n",
      "  layout[ax.rowNum, ax.colNum] = ax.get_visible()\n",
      "/opt/anaconda3/lib/python3.7/site-packages/pandas/plotting/_tools.py:307: MatplotlibDeprecationWarning: \n",
      "The rowNum attribute was deprecated in Matplotlib 3.2 and will be removed two minor releases later. Use ax.get_subplotspec().rowspan.start instead.\n",
      "  layout[ax.rowNum, ax.colNum] = ax.get_visible()\n",
      "/opt/anaconda3/lib/python3.7/site-packages/pandas/plotting/_tools.py:307: MatplotlibDeprecationWarning: \n",
      "The colNum attribute was deprecated in Matplotlib 3.2 and will be removed two minor releases later. Use ax.get_subplotspec().colspan.start instead.\n",
      "  layout[ax.rowNum, ax.colNum] = ax.get_visible()\n",
      "/opt/anaconda3/lib/python3.7/site-packages/pandas/plotting/_tools.py:307: MatplotlibDeprecationWarning: \n",
      "The rowNum attribute was deprecated in Matplotlib 3.2 and will be removed two minor releases later. Use ax.get_subplotspec().rowspan.start instead.\n",
      "  layout[ax.rowNum, ax.colNum] = ax.get_visible()\n",
      "/opt/anaconda3/lib/python3.7/site-packages/pandas/plotting/_tools.py:307: MatplotlibDeprecationWarning: \n",
      "The colNum attribute was deprecated in Matplotlib 3.2 and will be removed two minor releases later. Use ax.get_subplotspec().colspan.start instead.\n",
      "  layout[ax.rowNum, ax.colNum] = ax.get_visible()\n",
      "/opt/anaconda3/lib/python3.7/site-packages/pandas/plotting/_tools.py:307: MatplotlibDeprecationWarning: \n",
      "The rowNum attribute was deprecated in Matplotlib 3.2 and will be removed two minor releases later. Use ax.get_subplotspec().rowspan.start instead.\n",
      "  layout[ax.rowNum, ax.colNum] = ax.get_visible()\n",
      "/opt/anaconda3/lib/python3.7/site-packages/pandas/plotting/_tools.py:307: MatplotlibDeprecationWarning: \n",
      "The colNum attribute was deprecated in Matplotlib 3.2 and will be removed two minor releases later. Use ax.get_subplotspec().colspan.start instead.\n",
      "  layout[ax.rowNum, ax.colNum] = ax.get_visible()\n",
      "/opt/anaconda3/lib/python3.7/site-packages/pandas/plotting/_tools.py:307: MatplotlibDeprecationWarning: \n",
      "The rowNum attribute was deprecated in Matplotlib 3.2 and will be removed two minor releases later. Use ax.get_subplotspec().rowspan.start instead.\n",
      "  layout[ax.rowNum, ax.colNum] = ax.get_visible()\n",
      "/opt/anaconda3/lib/python3.7/site-packages/pandas/plotting/_tools.py:307: MatplotlibDeprecationWarning: \n",
      "The colNum attribute was deprecated in Matplotlib 3.2 and will be removed two minor releases later. Use ax.get_subplotspec().colspan.start instead.\n",
      "  layout[ax.rowNum, ax.colNum] = ax.get_visible()\n",
      "/opt/anaconda3/lib/python3.7/site-packages/pandas/plotting/_tools.py:307: MatplotlibDeprecationWarning: \n",
      "The rowNum attribute was deprecated in Matplotlib 3.2 and will be removed two minor releases later. Use ax.get_subplotspec().rowspan.start instead.\n",
      "  layout[ax.rowNum, ax.colNum] = ax.get_visible()\n",
      "/opt/anaconda3/lib/python3.7/site-packages/pandas/plotting/_tools.py:307: MatplotlibDeprecationWarning: \n",
      "The colNum attribute was deprecated in Matplotlib 3.2 and will be removed two minor releases later. Use ax.get_subplotspec().colspan.start instead.\n",
      "  layout[ax.rowNum, ax.colNum] = ax.get_visible()\n",
      "/opt/anaconda3/lib/python3.7/site-packages/pandas/plotting/_tools.py:307: MatplotlibDeprecationWarning: \n",
      "The rowNum attribute was deprecated in Matplotlib 3.2 and will be removed two minor releases later. Use ax.get_subplotspec().rowspan.start instead.\n",
      "  layout[ax.rowNum, ax.colNum] = ax.get_visible()\n",
      "/opt/anaconda3/lib/python3.7/site-packages/pandas/plotting/_tools.py:307: MatplotlibDeprecationWarning: \n",
      "The colNum attribute was deprecated in Matplotlib 3.2 and will be removed two minor releases later. Use ax.get_subplotspec().colspan.start instead.\n",
      "  layout[ax.rowNum, ax.colNum] = ax.get_visible()\n",
      "/opt/anaconda3/lib/python3.7/site-packages/pandas/plotting/_tools.py:307: MatplotlibDeprecationWarning: \n",
      "The rowNum attribute was deprecated in Matplotlib 3.2 and will be removed two minor releases later. Use ax.get_subplotspec().rowspan.start instead.\n",
      "  layout[ax.rowNum, ax.colNum] = ax.get_visible()\n",
      "/opt/anaconda3/lib/python3.7/site-packages/pandas/plotting/_tools.py:307: MatplotlibDeprecationWarning: \n",
      "The colNum attribute was deprecated in Matplotlib 3.2 and will be removed two minor releases later. Use ax.get_subplotspec().colspan.start instead.\n",
      "  layout[ax.rowNum, ax.colNum] = ax.get_visible()\n",
      "/opt/anaconda3/lib/python3.7/site-packages/pandas/plotting/_tools.py:307: MatplotlibDeprecationWarning: \n",
      "The rowNum attribute was deprecated in Matplotlib 3.2 and will be removed two minor releases later. Use ax.get_subplotspec().rowspan.start instead.\n",
      "  layout[ax.rowNum, ax.colNum] = ax.get_visible()\n",
      "/opt/anaconda3/lib/python3.7/site-packages/pandas/plotting/_tools.py:307: MatplotlibDeprecationWarning: \n",
      "The colNum attribute was deprecated in Matplotlib 3.2 and will be removed two minor releases later. Use ax.get_subplotspec().colspan.start instead.\n",
      "  layout[ax.rowNum, ax.colNum] = ax.get_visible()\n",
      "/opt/anaconda3/lib/python3.7/site-packages/pandas/plotting/_tools.py:307: MatplotlibDeprecationWarning: \n",
      "The rowNum attribute was deprecated in Matplotlib 3.2 and will be removed two minor releases later. Use ax.get_subplotspec().rowspan.start instead.\n",
      "  layout[ax.rowNum, ax.colNum] = ax.get_visible()\n",
      "/opt/anaconda3/lib/python3.7/site-packages/pandas/plotting/_tools.py:307: MatplotlibDeprecationWarning: \n",
      "The colNum attribute was deprecated in Matplotlib 3.2 and will be removed two minor releases later. Use ax.get_subplotspec().colspan.start instead.\n",
      "  layout[ax.rowNum, ax.colNum] = ax.get_visible()\n",
      "/opt/anaconda3/lib/python3.7/site-packages/pandas/plotting/_tools.py:307: MatplotlibDeprecationWarning: \n",
      "The rowNum attribute was deprecated in Matplotlib 3.2 and will be removed two minor releases later. Use ax.get_subplotspec().rowspan.start instead.\n",
      "  layout[ax.rowNum, ax.colNum] = ax.get_visible()\n",
      "/opt/anaconda3/lib/python3.7/site-packages/pandas/plotting/_tools.py:307: MatplotlibDeprecationWarning: \n",
      "The colNum attribute was deprecated in Matplotlib 3.2 and will be removed two minor releases later. Use ax.get_subplotspec().colspan.start instead.\n",
      "  layout[ax.rowNum, ax.colNum] = ax.get_visible()\n",
      "/opt/anaconda3/lib/python3.7/site-packages/pandas/plotting/_tools.py:313: MatplotlibDeprecationWarning: \n",
      "The rowNum attribute was deprecated in Matplotlib 3.2 and will be removed two minor releases later. Use ax.get_subplotspec().rowspan.start instead.\n",
      "  if not layout[ax.rowNum + 1, ax.colNum]:\n",
      "/opt/anaconda3/lib/python3.7/site-packages/pandas/plotting/_tools.py:313: MatplotlibDeprecationWarning: \n",
      "The colNum attribute was deprecated in Matplotlib 3.2 and will be removed two minor releases later. Use ax.get_subplotspec().colspan.start instead.\n",
      "  if not layout[ax.rowNum + 1, ax.colNum]:\n",
      "/opt/anaconda3/lib/python3.7/site-packages/pandas/plotting/_tools.py:313: MatplotlibDeprecationWarning: \n",
      "The rowNum attribute was deprecated in Matplotlib 3.2 and will be removed two minor releases later. Use ax.get_subplotspec().rowspan.start instead.\n",
      "  if not layout[ax.rowNum + 1, ax.colNum]:\n",
      "/opt/anaconda3/lib/python3.7/site-packages/pandas/plotting/_tools.py:313: MatplotlibDeprecationWarning: \n",
      "The colNum attribute was deprecated in Matplotlib 3.2 and will be removed two minor releases later. Use ax.get_subplotspec().colspan.start instead.\n",
      "  if not layout[ax.rowNum + 1, ax.colNum]:\n",
      "/opt/anaconda3/lib/python3.7/site-packages/pandas/plotting/_tools.py:313: MatplotlibDeprecationWarning: \n",
      "The rowNum attribute was deprecated in Matplotlib 3.2 and will be removed two minor releases later. Use ax.get_subplotspec().rowspan.start instead.\n",
      "  if not layout[ax.rowNum + 1, ax.colNum]:\n",
      "/opt/anaconda3/lib/python3.7/site-packages/pandas/plotting/_tools.py:313: MatplotlibDeprecationWarning: \n",
      "The colNum attribute was deprecated in Matplotlib 3.2 and will be removed two minor releases later. Use ax.get_subplotspec().colspan.start instead.\n",
      "  if not layout[ax.rowNum + 1, ax.colNum]:\n",
      "/opt/anaconda3/lib/python3.7/site-packages/pandas/plotting/_tools.py:313: MatplotlibDeprecationWarning: \n",
      "The rowNum attribute was deprecated in Matplotlib 3.2 and will be removed two minor releases later. Use ax.get_subplotspec().rowspan.start instead.\n",
      "  if not layout[ax.rowNum + 1, ax.colNum]:\n",
      "/opt/anaconda3/lib/python3.7/site-packages/pandas/plotting/_tools.py:313: MatplotlibDeprecationWarning: \n",
      "The colNum attribute was deprecated in Matplotlib 3.2 and will be removed two minor releases later. Use ax.get_subplotspec().colspan.start instead.\n",
      "  if not layout[ax.rowNum + 1, ax.colNum]:\n",
      "/opt/anaconda3/lib/python3.7/site-packages/pandas/plotting/_tools.py:313: MatplotlibDeprecationWarning: \n",
      "The rowNum attribute was deprecated in Matplotlib 3.2 and will be removed two minor releases later. Use ax.get_subplotspec().rowspan.start instead.\n",
      "  if not layout[ax.rowNum + 1, ax.colNum]:\n",
      "/opt/anaconda3/lib/python3.7/site-packages/pandas/plotting/_tools.py:313: MatplotlibDeprecationWarning: \n",
      "The colNum attribute was deprecated in Matplotlib 3.2 and will be removed two minor releases later. Use ax.get_subplotspec().colspan.start instead.\n",
      "  if not layout[ax.rowNum + 1, ax.colNum]:\n",
      "/opt/anaconda3/lib/python3.7/site-packages/pandas/plotting/_tools.py:313: MatplotlibDeprecationWarning: \n",
      "The rowNum attribute was deprecated in Matplotlib 3.2 and will be removed two minor releases later. Use ax.get_subplotspec().rowspan.start instead.\n",
      "  if not layout[ax.rowNum + 1, ax.colNum]:\n",
      "/opt/anaconda3/lib/python3.7/site-packages/pandas/plotting/_tools.py:313: MatplotlibDeprecationWarning: \n",
      "The colNum attribute was deprecated in Matplotlib 3.2 and will be removed two minor releases later. Use ax.get_subplotspec().colspan.start instead.\n",
      "  if not layout[ax.rowNum + 1, ax.colNum]:\n",
      "/opt/anaconda3/lib/python3.7/site-packages/pandas/plotting/_tools.py:313: MatplotlibDeprecationWarning: \n",
      "The rowNum attribute was deprecated in Matplotlib 3.2 and will be removed two minor releases later. Use ax.get_subplotspec().rowspan.start instead.\n",
      "  if not layout[ax.rowNum + 1, ax.colNum]:\n",
      "/opt/anaconda3/lib/python3.7/site-packages/pandas/plotting/_tools.py:313: MatplotlibDeprecationWarning: \n",
      "The colNum attribute was deprecated in Matplotlib 3.2 and will be removed two minor releases later. Use ax.get_subplotspec().colspan.start instead.\n",
      "  if not layout[ax.rowNum + 1, ax.colNum]:\n",
      "/opt/anaconda3/lib/python3.7/site-packages/pandas/plotting/_tools.py:313: MatplotlibDeprecationWarning: \n",
      "The rowNum attribute was deprecated in Matplotlib 3.2 and will be removed two minor releases later. Use ax.get_subplotspec().rowspan.start instead.\n",
      "  if not layout[ax.rowNum + 1, ax.colNum]:\n",
      "/opt/anaconda3/lib/python3.7/site-packages/pandas/plotting/_tools.py:313: MatplotlibDeprecationWarning: \n",
      "The colNum attribute was deprecated in Matplotlib 3.2 and will be removed two minor releases later. Use ax.get_subplotspec().colspan.start instead.\n",
      "  if not layout[ax.rowNum + 1, ax.colNum]:\n",
      "/opt/anaconda3/lib/python3.7/site-packages/pandas/plotting/_tools.py:313: MatplotlibDeprecationWarning: \n",
      "The rowNum attribute was deprecated in Matplotlib 3.2 and will be removed two minor releases later. Use ax.get_subplotspec().rowspan.start instead.\n",
      "  if not layout[ax.rowNum + 1, ax.colNum]:\n",
      "/opt/anaconda3/lib/python3.7/site-packages/pandas/plotting/_tools.py:313: MatplotlibDeprecationWarning: \n",
      "The colNum attribute was deprecated in Matplotlib 3.2 and will be removed two minor releases later. Use ax.get_subplotspec().colspan.start instead.\n",
      "  if not layout[ax.rowNum + 1, ax.colNum]:\n",
      "/opt/anaconda3/lib/python3.7/site-packages/pandas/plotting/_tools.py:313: MatplotlibDeprecationWarning: \n",
      "The rowNum attribute was deprecated in Matplotlib 3.2 and will be removed two minor releases later. Use ax.get_subplotspec().rowspan.start instead.\n",
      "  if not layout[ax.rowNum + 1, ax.colNum]:\n",
      "/opt/anaconda3/lib/python3.7/site-packages/pandas/plotting/_tools.py:313: MatplotlibDeprecationWarning: \n",
      "The colNum attribute was deprecated in Matplotlib 3.2 and will be removed two minor releases later. Use ax.get_subplotspec().colspan.start instead.\n",
      "  if not layout[ax.rowNum + 1, ax.colNum]:\n",
      "/opt/anaconda3/lib/python3.7/site-packages/pandas/plotting/_tools.py:313: MatplotlibDeprecationWarning: \n",
      "The rowNum attribute was deprecated in Matplotlib 3.2 and will be removed two minor releases later. Use ax.get_subplotspec().rowspan.start instead.\n",
      "  if not layout[ax.rowNum + 1, ax.colNum]:\n",
      "/opt/anaconda3/lib/python3.7/site-packages/pandas/plotting/_tools.py:313: MatplotlibDeprecationWarning: \n",
      "The colNum attribute was deprecated in Matplotlib 3.2 and will be removed two minor releases later. Use ax.get_subplotspec().colspan.start instead.\n",
      "  if not layout[ax.rowNum + 1, ax.colNum]:\n",
      "/opt/anaconda3/lib/python3.7/site-packages/pandas/plotting/_tools.py:313: MatplotlibDeprecationWarning: \n",
      "The rowNum attribute was deprecated in Matplotlib 3.2 and will be removed two minor releases later. Use ax.get_subplotspec().rowspan.start instead.\n",
      "  if not layout[ax.rowNum + 1, ax.colNum]:\n",
      "/opt/anaconda3/lib/python3.7/site-packages/pandas/plotting/_tools.py:313: MatplotlibDeprecationWarning: \n",
      "The colNum attribute was deprecated in Matplotlib 3.2 and will be removed two minor releases later. Use ax.get_subplotspec().colspan.start instead.\n",
      "  if not layout[ax.rowNum + 1, ax.colNum]:\n",
      "/opt/anaconda3/lib/python3.7/site-packages/pandas/plotting/_tools.py:313: MatplotlibDeprecationWarning: \n",
      "The rowNum attribute was deprecated in Matplotlib 3.2 and will be removed two minor releases later. Use ax.get_subplotspec().rowspan.start instead.\n",
      "  if not layout[ax.rowNum + 1, ax.colNum]:\n",
      "/opt/anaconda3/lib/python3.7/site-packages/pandas/plotting/_tools.py:313: MatplotlibDeprecationWarning: \n",
      "The colNum attribute was deprecated in Matplotlib 3.2 and will be removed two minor releases later. Use ax.get_subplotspec().colspan.start instead.\n",
      "  if not layout[ax.rowNum + 1, ax.colNum]:\n",
      "/opt/anaconda3/lib/python3.7/site-packages/pandas/plotting/_tools.py:313: MatplotlibDeprecationWarning: \n",
      "The rowNum attribute was deprecated in Matplotlib 3.2 and will be removed two minor releases later. Use ax.get_subplotspec().rowspan.start instead.\n",
      "  if not layout[ax.rowNum + 1, ax.colNum]:\n",
      "/opt/anaconda3/lib/python3.7/site-packages/pandas/plotting/_tools.py:313: MatplotlibDeprecationWarning: \n",
      "The colNum attribute was deprecated in Matplotlib 3.2 and will be removed two minor releases later. Use ax.get_subplotspec().colspan.start instead.\n",
      "  if not layout[ax.rowNum + 1, ax.colNum]:\n",
      "/opt/anaconda3/lib/python3.7/site-packages/pandas/plotting/_tools.py:313: MatplotlibDeprecationWarning: \n",
      "The rowNum attribute was deprecated in Matplotlib 3.2 and will be removed two minor releases later. Use ax.get_subplotspec().rowspan.start instead.\n",
      "  if not layout[ax.rowNum + 1, ax.colNum]:\n",
      "/opt/anaconda3/lib/python3.7/site-packages/pandas/plotting/_tools.py:313: MatplotlibDeprecationWarning: \n",
      "The colNum attribute was deprecated in Matplotlib 3.2 and will be removed two minor releases later. Use ax.get_subplotspec().colspan.start instead.\n",
      "  if not layout[ax.rowNum + 1, ax.colNum]:\n",
      "/opt/anaconda3/lib/python3.7/site-packages/pandas/plotting/_tools.py:313: MatplotlibDeprecationWarning: \n",
      "The rowNum attribute was deprecated in Matplotlib 3.2 and will be removed two minor releases later. Use ax.get_subplotspec().rowspan.start instead.\n",
      "  if not layout[ax.rowNum + 1, ax.colNum]:\n",
      "/opt/anaconda3/lib/python3.7/site-packages/pandas/plotting/_tools.py:313: MatplotlibDeprecationWarning: \n",
      "The colNum attribute was deprecated in Matplotlib 3.2 and will be removed two minor releases later. Use ax.get_subplotspec().colspan.start instead.\n",
      "  if not layout[ax.rowNum + 1, ax.colNum]:\n",
      "/opt/anaconda3/lib/python3.7/site-packages/pandas/plotting/_tools.py:313: MatplotlibDeprecationWarning: \n",
      "The rowNum attribute was deprecated in Matplotlib 3.2 and will be removed two minor releases later. Use ax.get_subplotspec().rowspan.start instead.\n",
      "  if not layout[ax.rowNum + 1, ax.colNum]:\n",
      "/opt/anaconda3/lib/python3.7/site-packages/pandas/plotting/_tools.py:313: MatplotlibDeprecationWarning: \n",
      "The colNum attribute was deprecated in Matplotlib 3.2 and will be removed two minor releases later. Use ax.get_subplotspec().colspan.start instead.\n",
      "  if not layout[ax.rowNum + 1, ax.colNum]:\n",
      "/opt/anaconda3/lib/python3.7/site-packages/pandas/plotting/_tools.py:313: MatplotlibDeprecationWarning: \n",
      "The rowNum attribute was deprecated in Matplotlib 3.2 and will be removed two minor releases later. Use ax.get_subplotspec().rowspan.start instead.\n",
      "  if not layout[ax.rowNum + 1, ax.colNum]:\n",
      "/opt/anaconda3/lib/python3.7/site-packages/pandas/plotting/_tools.py:313: MatplotlibDeprecationWarning: \n",
      "The colNum attribute was deprecated in Matplotlib 3.2 and will be removed two minor releases later. Use ax.get_subplotspec().colspan.start instead.\n",
      "  if not layout[ax.rowNum + 1, ax.colNum]:\n",
      "/opt/anaconda3/lib/python3.7/site-packages/pandas/plotting/_tools.py:313: MatplotlibDeprecationWarning: \n",
      "The rowNum attribute was deprecated in Matplotlib 3.2 and will be removed two minor releases later. Use ax.get_subplotspec().rowspan.start instead.\n",
      "  if not layout[ax.rowNum + 1, ax.colNum]:\n",
      "/opt/anaconda3/lib/python3.7/site-packages/pandas/plotting/_tools.py:313: MatplotlibDeprecationWarning: \n",
      "The colNum attribute was deprecated in Matplotlib 3.2 and will be removed two minor releases later. Use ax.get_subplotspec().colspan.start instead.\n",
      "  if not layout[ax.rowNum + 1, ax.colNum]:\n"
     ]
    },
    {
     "data": {
      "text/plain": [
       "<Figure size 16000x10000 with 0 Axes>"
      ]
     },
     "metadata": {},
     "output_type": "display_data"
    },
    {
     "data": {
      "image/png": "[encoded data removed]",
      "text/plain": [
       "<Figure size 1008x720 with 20 Axes>"
      ]
     },
     "metadata": {
      "needs_background": "light"
     },
     "output_type": "display_data"
    }
   ],
   "source": [
    "# Draw Plot\n",
    "plt.figure(figsize=(16,10), dpi= 1000)\n",
    "fig, axes = joypy.joyplot(sample, \n",
    "                          column=['Date_gaussian'],\n",
    "                          by=sample.index.get_level_values(0), \n",
    "                          ylim='own',\n",
    "                          alpha = .75,\n",
    "                          colormap=cm.autumn_r,\n",
    "                          figsize=(14,10))\n",
    "plt.xlabel('Date')\n",
    "plt.ylabel('Wineyard')\n",
    "plt.show()"
   ]
  },
  {
   "cell_type": "markdown",
   "metadata": {},
   "source": [
    "Produce the scrambled matrices for the sensitivity analysis"
   ]
  },
  {
   "cell_type": "code",
   "execution_count": null,
   "metadata": {},
   "outputs": [],
   "source": [
    "variables = ['Yield_gaussian','Yield_uniform','Productivity_gaussian','Productivity_uniform',\n",
    "             'Date_gaussian','Date_uniform','Yield','Productivity','Date',\n",
    "            'Workers','Rain_trigger','Hours_extra','Sundays_work','Sundays','Rain']\n",
    "\n",
    "yield_list, productivity_list, date_list = [],[],[]\n",
    "for es,s in enumerate(sampleB.iloc[:,:2].values):\n",
    "    yield_list.append(s[np.tile(sampleTot[20].round(0).astype(int), len(wineyard))[es]])\n",
    "    productivity_list.append(sampleB.iloc[es,2:4][np.tile(sampleTot[21].round(0).astype(int), len(wineyard))[es]])\n",
    "    date_list.append(sampleB.iloc[es,4:6][np.tile(sampleTot[22].round(0).astype(int), len(wineyard))[es]])\n",
    "    \n",
    "sampleB['Yield']= yield_list\n",
    "sampleB['Productivity']= productivity_list\n",
    "sampleB['Date']= date_list\n",
    "\n",
    "sampleB['Hourman']=(sampleB.Yield/sampleB.Productivity).round(0).astype(int)\n",
    "\n",
    "yield_list, productivity_list, date_list = [],[],[]\n",
    "for es,s in enumerate(sample.iloc[:,:2].values):\n",
    "    yield_list.append(s[np.tile(sampleTot[6].round(0).astype(int), len(wineyard))[es]])\n",
    "    productivity_list.append(sample.iloc[es,2:4][np.tile(sampleTot[7].round(0).astype(int), len(wineyard))[es]])\n",
    "    date_list.append(sample.iloc[es,4:6][np.tile(sampleTot[8].round(0).astype(int), len(wineyard))[es]])\n",
    "    \n",
    "sample['Yield']= yield_list\n",
    "sample['Productivity']= productivity_list\n",
    "sample['Date']= date_list\n",
    "\n",
    "sample['Hourman']=(sample.Yield/sample.Productivity).round(0).astype(int)\n",
    "\n",
    "sM_A=[sample]\n",
    "\n",
    "sample_requirement=pd.DataFrame(sample.groupby(['random_index','Date'])['Hourman'].sum())\n",
    "\n",
    "days_worked_dict = {}\n",
    "for es,s in sample.groupby(level=1):\n",
    "    days_no_rain = rain.index[sample_rain.loc[pd.IndexSlice[:,es],s.loc[1,'Rain_trigger'].values[0]]]\n",
    "    days_worked_values = np.tile((s.Workers*s.Hours_extra).iloc[0],len(days_no_rain))\n",
    "    if s.loc[1,'Sundays_work'].values[0] == False:\n",
    "        days_worked = days_no_rain.intersection(rain.index[~rain.index.isin(s.loc[1,'Sundays'].values[0])])\n",
    "        days_worked_values = np.tile((s.Workers*s.Hours_extra).iloc[0],len(days_worked))\n",
    "        days_worked_dict[es] = pd.DataFrame(days_worked_values,index=days_worked)\n",
    "    else:\n",
    "        days_worked_dict[es] = pd.DataFrame(days_worked_values,index=days_no_rain)\n",
    "\n",
    "manpower_available=pd.concat(days_worked_dict[es] for es in days_worked_dict.keys())\n",
    "manpower_available['random_index'] = [es for es in days_worked_dict.keys() for r in range(len(days_worked_dict[es]))]\n",
    "manpower_available = manpower_available.set_index(['random_index',manpower_available.index])\n",
    "\n",
    "manpower_available.index=manpower_available.index.set_names(['random_index','Date'])\n",
    "manpower_available.columns=['Hourman']\n",
    "\n",
    "difference=(sample_requirement-manpower_available).loc[sample_requirement.index].fillna(sample_requirement)\n",
    "\n",
    "# difference.loc[difference.Hourman<0,'Hourman']=0\n",
    "\n",
    "sample_requirement = sample_requirement.reset_index()\n",
    "sample_requirement.index = sample_requirement.random_index\n",
    "\n",
    "output = pd.concat([(np.abs(sample_requirement.Hourman-\\\n",
    "sample_requirement.groupby(sample_requirement.index)['Hourman'].mean())).groupby(sample_requirement.index).sum()/\\\n",
    "(sample_requirement.groupby(sample_requirement.index).size()-1),\n",
    "                    sample_requirement.groupby(sample_requirement.index)['Date'].diff().groupby(sample_requirement.index).sum()/\\\n",
    "(sample_requirement.groupby(sample_requirement.index).size()-1),\n",
    "                   difference.groupby('random_index').sum()],axis=1)\n",
    "output.columns = ['Hourman_discrepancy','Harvest_date_discrepancy','Hourman_deficit']\n",
    "\n",
    "output_list = [output]\n",
    "\n",
    "for iv, v in enumerate(variables):\n",
    "    sM_A.append(sample.copy())\n",
    "    if v != 'Rain':\n",
    "        sM_A[-1][v]=sampleB[v]\n",
    "    \n",
    "    yield_list, productivity_list, date_list = [],[],[]\n",
    "    for es,s in enumerate(sM_A[-1].iloc[:,:2].values):\n",
    "        if iv == 6:\n",
    "            yield_list.append(s[np.tile(sampleTot[20].round(0).astype(int), len(wineyard))[es]])\n",
    "        else:\n",
    "            yield_list.append(s[np.tile(sampleTot[6].round(0).astype(int), len(wineyard))[es]])\n",
    "        if iv == 7:\n",
    "            productivity_list.append(sM_A[-1].iloc[es,2:4][np.tile(sampleTot[21].round(0).astype(int), len(wineyard))[es]])\n",
    "        else:\n",
    "            productivity_list.append(sM_A[-1].iloc[es,2:4][np.tile(sampleTot[7].round(0).astype(int), len(wineyard))[es]])\n",
    "        if iv == 8:\n",
    "            date_list.append(sM_A[-1].iloc[es,4:6][np.tile(sampleTot[22].round(0).astype(int), len(wineyard))[es]])\n",
    "        else:\n",
    "            date_list.append(sM_A[-1].iloc[es,4:6][np.tile(sampleTot[8].round(0).astype(int), len(wineyard))[es]])\n",
    "\n",
    "    sM_A[-1]['Yield']= yield_list\n",
    "    sM_A[-1]['Productivity']= productivity_list\n",
    "    sM_A[-1]['Date']= date_list\n",
    "       \n",
    "    sM_A[-1]['Hourman']=(sM_A[-1].Yield/sM_A[-1].Productivity).round(0).astype(int)\n",
    "    \n",
    "    sample_requirement=pd.DataFrame(sM_A[-1].groupby(['random_index','Date'])['Hourman'].sum())\n",
    "\n",
    "    #set_days_available_when_not_raining and exclude Sundays if not in the trigger\n",
    "    days_worked_dict = {}\n",
    "    for es,s in sM_A[-1].groupby(level=1):\n",
    "        if iv == 14:\n",
    "            days_no_rain = rain.index[sample_rainB.loc[pd.IndexSlice[:,es],s.loc[1,'Rain_trigger'].values[0]]]\n",
    "        else:\n",
    "            days_no_rain = rain.index[sample_rain.loc[pd.IndexSlice[:,es],s.loc[1,'Rain_trigger'].values[0]]]\n",
    "        days_worked_values = np.tile((s.Workers*s.Hours_extra).iloc[0],len(days_no_rain))\n",
    "        if s.loc[1,'Sundays_work'].values[0] == False:\n",
    "            days_worked = days_no_rain.intersection(rain.index[~rain.index.isin(s.loc[1,'Sundays'].values[0])])\n",
    "            days_worked_values = np.tile((s.Workers*s.Hours_extra).iloc[0],len(days_worked))\n",
    "            days_worked_dict[es] = pd.DataFrame(days_worked_values,index=days_worked)\n",
    "        else:\n",
    "            days_worked_dict[es] = pd.DataFrame(days_worked_values,index=days_no_rain)\n",
    "\n",
    "    manpower_available=pd.concat(days_worked_dict[es] for es in days_worked_dict.keys())\n",
    "    manpower_available['random_index'] = [es for es in days_worked_dict.keys() for r in range(len(days_worked_dict[es]))]\n",
    "    manpower_available = manpower_available.set_index(['random_index',manpower_available.index])\n",
    "\n",
    "    manpower_available.index=manpower_available.index.set_names(['random_index','Date'])\n",
    "    manpower_available.columns=['Hourman']\n",
    "\n",
    "    difference=(sample_requirement-manpower_available).loc[sample_requirement.index].fillna(sample_requirement)\n",
    "    \n",
    "#     difference.loc[difference.Hourman<0,'Hourman']=0\n",
    "\n",
    "\n",
    "    sample_requirement = sample_requirement.reset_index()\n",
    "    sample_requirement.index = sample_requirement.random_index\n",
    "\n",
    "    output = pd.concat([(np.abs(sample_requirement.Hourman-\\\n",
    "    sample_requirement.groupby(sample_requirement.index)['Hourman'].mean())).groupby(sample_requirement.index).sum()/\\\n",
    "    (sample_requirement.groupby(sample_requirement.index).size()-1),\n",
    "                        sample_requirement.groupby(sample_requirement.index)['Date'].diff().groupby(sample_requirement.index).sum()/\\\n",
    "    (sample_requirement.groupby(sample_requirement.index).size()-1),\n",
    "                       difference.groupby('random_index').sum()],axis=1)\n",
    "    output.columns = ['Hourman_discrepancy','Maturation_date_discrepancy','Hourman_deficit']\n",
    "    output_list.append(output)\n",
    "    \n",
    "sM_A.append(sampleB)\n",
    "\n",
    "sample_requirement=pd.DataFrame(sampleB.groupby(['random_index','Date'])['Hourman'].sum())\n",
    "\n",
    "days_worked_dict = {}\n",
    "for es,s in sampleB.groupby(level=1):\n",
    "    days_no_rain = rain.index[sample_rainB.loc[pd.IndexSlice[:,es],s.loc[1,'Rain_trigger'].values[0]]]\n",
    "    days_worked_values = np.tile((s.Workers*s.Hours_extra).iloc[0],len(days_no_rain))\n",
    "    if s.loc[1,'Sundays_work'].values[0] == False:\n",
    "        days_worked = days_no_rain.intersection(rain.index[~rain.index.isin(s.loc[1,'Sundays'].values[0])])\n",
    "        days_worked_values = np.tile((s.Workers*s.Hours_extra).iloc[0],len(days_worked))\n",
    "        days_worked_dict[es] = pd.DataFrame(days_worked_values,index=days_worked)\n",
    "    else:\n",
    "        days_worked_dict[es] = pd.DataFrame(days_worked_values,index=days_no_rain)\n",
    "\n",
    "manpower_available=pd.concat(days_worked_dict[es] for es in days_worked_dict.keys())\n",
    "manpower_available['random_index'] = [es for es in days_worked_dict.keys() for r in range(len(days_worked_dict[es]))]\n",
    "manpower_available = manpower_available.set_index(['random_index',manpower_available.index])\n",
    "\n",
    "manpower_available.index=manpower_available.index.set_names(['random_index','Date'])\n",
    "manpower_available.columns=['Hourman']\n",
    "\n",
    "difference=(sample_requirement-manpower_available).loc[sample_requirement.index].fillna(sample_requirement)\n",
    "\n",
    "# difference.loc[difference.Hourman<0,'Hourman']=0\n",
    "\n",
    "sample_requirement = sample_requirement.reset_index()\n",
    "sample_requirement.index = sample_requirement.random_index\n",
    "\n",
    "output = pd.concat([(np.abs(sample_requirement.Hourman-\\\n",
    "sample_requirement.groupby(sample_requirement.index)['Hourman'].mean())).groupby(sample_requirement.index).sum()/\\\n",
    "(sample_requirement.groupby(sample_requirement.index).size()-1),\n",
    "                    sample_requirement.groupby(sample_requirement.index)['Date'].diff().groupby(sample_requirement.index).sum()/\\\n",
    "(sample_requirement.groupby(sample_requirement.index).size()-1),\n",
    "                   difference.groupby('random_index').sum()],axis=1)\n",
    "output.columns = ['Hourman_discrepancy','Harvest_date_discrepancy','Hourman_deficit']\n",
    "output_list.append(output)"
   ]
  },
  {
   "cell_type": "markdown",
   "metadata": {},
   "source": [
    "Calculate the output variables for the B matrix for the sensitivity analysis"
   ]
  },
  {
   "cell_type": "code",
   "execution_count": null,
   "metadata": {},
   "outputs": [],
   "source": [
    "output_listB = output_list.copy()\n",
    "output_listB[0] = output_list[-1]\n",
    "sM_B = []\n",
    "\n",
    "for iv, v in enumerate(variables):\n",
    "    sM_B.append(sampleB.copy())\n",
    "    if v != 'Rain':\n",
    "        sM_B[-1][v]=sample[v]\n",
    "    \n",
    "    yield_list, productivity_list, date_list = [],[],[]\n",
    "    for es,s in enumerate(sM_B[-1].iloc[:,:2].values):\n",
    "        if iv == 6:\n",
    "            yield_list.append(s[np.tile(sampleTot[6].round(0).astype(int), len(wineyard))[es]])\n",
    "        else:\n",
    "            yield_list.append(s[np.tile(sampleTot[20].round(0).astype(int), len(wineyard))[es]])\n",
    "        if iv == 7:\n",
    "            productivity_list.append(sM_B[-1].iloc[es,2:4][np.tile(sampleTot[7].round(0).astype(int), len(wineyard))[es]])\n",
    "        else:\n",
    "            productivity_list.append(sM_B[-1].iloc[es,2:4][np.tile(sampleTot[21].round(0).astype(int), len(wineyard))[es]])\n",
    "        if iv == 8:\n",
    "            date_list.append(sM_B[-1].iloc[es,4:6][np.tile(sampleTot[8].round(0).astype(int), len(wineyard))[es]])\n",
    "        else:\n",
    "            date_list.append(sM_B[-1].iloc[es,4:6][np.tile(sampleTot[22].round(0).astype(int), len(wineyard))[es]])\n",
    "\n",
    "    sM_B[-1]['Yield']= yield_list\n",
    "    sM_B[-1]['Productivity']= productivity_list\n",
    "    sM_B[-1]['Date']= date_list\n",
    "       \n",
    "    sM_B[-1]['Hourman']=(sM_B[-1].Yield/sM_B[-1].Productivity).round(0).astype(int)\n",
    "    \n",
    "    sample_requirement=pd.DataFrame(sM_B[-1].groupby(['random_index','Date'])['Hourman'].sum())\n",
    "\n",
    "    #set_days_available_when_not_raining and exclude Sundays if not in the trigger\n",
    "    days_worked_dict = {}\n",
    "    for es,s in sM_B[-1].groupby(level=1):\n",
    "        if iv == 14:\n",
    "            days_no_rain = rain.index[sample_rain.loc[pd.IndexSlice[:,es],s.loc[1,'Rain_trigger'].values[0]]]\n",
    "        else:\n",
    "            days_no_rain = rain.index[sample_rainB.loc[pd.IndexSlice[:,es],s.loc[1,'Rain_trigger'].values[0]]]\n",
    "        days_worked_values = np.tile((s.Workers*s.Hours_extra).iloc[0],len(days_no_rain))\n",
    "        if s.loc[1,'Sundays_work'].values[0] == False:\n",
    "            days_worked = days_no_rain.intersection(rain.index[~rain.index.isin(s.loc[1,'Sundays'].values[0])])\n",
    "            days_worked_values = np.tile((s.Workers*s.Hours_extra).iloc[0],len(days_worked))\n",
    "            days_worked_dict[es] = pd.DataFrame(days_worked_values,index=days_worked)\n",
    "        else:\n",
    "            days_worked_dict[es] = pd.DataFrame(days_worked_values,index=days_no_rain)\n",
    "\n",
    "    manpower_available=pd.concat(days_worked_dict[es] for es in days_worked_dict.keys())\n",
    "    manpower_available['random_index'] = [es for es in days_worked_dict.keys() for r in range(len(days_worked_dict[es]))]\n",
    "    manpower_available = manpower_available.set_index(['random_index',manpower_available.index])\n",
    "\n",
    "    manpower_available.index=manpower_available.index.set_names(['random_index','Date'])\n",
    "    manpower_available.columns=['Hourman']\n",
    "\n",
    "    difference=(sample_requirement-manpower_available).loc[sample_requirement.index].fillna(sample_requirement)\n",
    "    \n",
    "#     difference.loc[difference.Hourman<0,'Hourman']=0\n",
    "\n",
    "\n",
    "    sample_requirement = sample_requirement.reset_index()\n",
    "    sample_requirement.index = sample_requirement.random_index\n",
    "\n",
    "    output = pd.concat([(np.abs(sample_requirement.Hourman-\\\n",
    "    sample_requirement.groupby(sample_requirement.index)['Hourman'].mean())).groupby(sample_requirement.index).sum()/\\\n",
    "    (sample_requirement.groupby(sample_requirement.index).size()-1),\n",
    "                        sample_requirement.groupby(sample_requirement.index)['Date'].diff().groupby(sample_requirement.index).sum()/\\\n",
    "    (sample_requirement.groupby(sample_requirement.index).size()-1),\n",
    "                       difference.groupby('random_index').sum()],axis=1)\n",
    "    output.columns = ['Hourman_discrepancy','Harvest_date_discrepancy','Hourman_deficit']\n",
    "    output_listB.append(output)\n",
    "\n",
    "output_listB[-1] = output_list[0]"
   ]
  },
  {
   "cell_type": "markdown",
   "metadata": {},
   "source": [
    "Slice the dataframe by fixing the number of workers"
   ]
  },
  {
   "cell_type": "code",
   "execution_count": null,
   "metadata": {},
   "outputs": [],
   "source": [
    "workers_index = [sM_A[0][sM_A[0].Workers==s].index.get_level_values(1).drop_duplicates()\n",
    "                 for s in np.sort(sM_A[0].Workers.unique())]\n",
    "\n",
    "extrahours_index = [sM_A[0][sM_A[0].Hours_extra==s].index.get_level_values(1).drop_duplicates()\n",
    "                 for s in np.sort(sM_A[0].Hours_extra.unique())]\n",
    "\n",
    "Hourman_deficit_worker = [output_list[0].loc[w,'Hourman_deficit'] for w in workers_index]\n",
    "Hourman_deficit_extrahours = [output_list[0].loc[h,'Hourman_deficit'] for h in extrahours_index]\n",
    "\n",
    "Hourman_deficit_worker_df = pd.concat(Hourman_deficit_worker,axis=1)\n",
    "Hourman_deficit_extrahours_df = pd.concat(Hourman_deficit_extrahours,axis=1)\n",
    "Hourman_deficit_worker_df.columns = np.sort(sM_A[0].Workers.unique())\n",
    "Hourman_deficit_extrahours_df.columns = np.sort(sM_A[0].Hours_extra.unique())"
   ]
  },
  {
   "cell_type": "markdown",
   "metadata": {},
   "source": [
    "Assess the sensitivity indices"
   ]
  },
  {
   "cell_type": "code",
   "execution_count": null,
   "metadata": {},
   "outputs": [],
   "source": [
    "Var = pd.concat([output_list[0],output_list[-1]],axis=0).var(ddof=0)\n",
    "T_list = []\n",
    "S_list = []\n",
    "for eo, o in enumerate(output_list[1:-1]):\n",
    "    T_list.append(0.5*np.mean((o-output_list[0])**2)/Var)\n",
    "#     S_list.append(2*np.mean((output_listB[eo]-output_list[-1])*(output_list[0]-o))/\\\n",
    "#                  np.mean(((output_list[0]-output_list[-1])**2)*((output_listB[eo]-o)**2)))\n",
    "    S_list.append(np.mean(output_list[-1]*(o-output_list[0]))/Var)\n",
    "T = pd.concat(T_list,axis=1)\n",
    "T.columns = variables\n",
    "S = pd.concat(S_list,axis=1)\n",
    "S.columns = T.columns"
   ]
  },
  {
   "cell_type": "markdown",
   "metadata": {},
   "source": [
    "Assess the sensitivity indices - bootstrap"
   ]
  },
  {
   "cell_type": "code",
   "execution_count": null,
   "metadata": {},
   "outputs": [],
   "source": [
    "seed = output_list[0].sample(n=1_000*len(output_list[0]),replace=True).index\n",
    "new_index = [r for r in range(1000) for i in range(-1+2**14)]\n",
    "output_bootstrap = []\n",
    "# output_bootstrapB = []\n",
    "for eo, o in enumerate(output_list):\n",
    "    o_df = o.reindex(seed)\n",
    "#     o_dfB = output_listB[eo].reindex(seed)\n",
    "    o_df.index = new_index\n",
    "#     o_dfB.index = o_df.index\n",
    "    output_bootstrap.append(o_df)\n",
    "#     output_bootstrapB.append(o_dfB)\n",
    "    \n",
    "Var = pd.concat([output_bootstrap[0],output_bootstrap[-1]],axis=0).groupby(pd.concat([output_bootstrap[0],\n",
    "                                                            output_bootstrap[-1]],axis=0).index).var(ddof=0)\n",
    "T_list = []\n",
    "S_list = []\n",
    "for eo, o in enumerate(output_bootstrap[1:-1]):\n",
    "    T_list.append(0.5*((o-output_bootstrap[0])**2).groupby(o.index).mean()/Var)\n",
    "#     S_list.append(2*((output_bootstrapB[eo]-output_bootstrap[-1])*(output_bootstrap[0]-o)).groupby(o.index).mean()/\\\n",
    "#                  (((output_bootstrap[0]-output_bootstrap[-1])**2)*((output_bootstrapB[eo]-o)**2)).groupby(o.index).mean())\n",
    "    S_list.append((output_bootstrap[-1]*(o-output_bootstrap[0])).groupby(o.index).mean()/Var)\n",
    "T_output = [pd.concat([T.iloc[:,c] for T in T_list],axis=1) for c in range(len(T_list[0].columns))]\n",
    "S_output = [pd.concat([S.iloc[:,c] for S in S_list],axis=1) for c in range(len(S_list[0].columns))]\n",
    "for To in T_output:\n",
    "    To.columns=variables \n",
    "for So in S_output:\n",
    "    So.columns=variables"
   ]
  },
  {
   "cell_type": "markdown",
   "metadata": {},
   "source": [
    "## Visual output and output analysis"
   ]
  },
  {
   "cell_type": "code",
   "execution_count": null,
   "metadata": {},
   "outputs": [],
   "source": [
    "output_list[0].Hourman_discrepancy.plot.hist(bins=100,alpha=.5,color='tab:red')\n",
    "plt.xlabel('${Di}_{l}$')\n",
    "plt.ylabel('Occurrences')\n",
    "plt.xlim(right=100)\n",
    "plt.show()"
   ]
  },
  {
   "cell_type": "code",
   "execution_count": null,
   "metadata": {},
   "outputs": [],
   "source": [
    "output_list[0].Hourman_discrepancy.describe()"
   ]
  },
  {
   "cell_type": "code",
   "execution_count": null,
   "metadata": {},
   "outputs": [],
   "source": [
    "output_list[0].Hourman_discrepancy[output_list[0].Hourman_discrepancy > 100]"
   ]
  },
  {
   "cell_type": "code",
   "execution_count": null,
   "metadata": {},
   "outputs": [],
   "source": [
    "output_list[0].Harvest_date_discrepancy.plot.hist(bins=100,alpha=.5,color='tab:purple')\n",
    "plt.xlabel('${Di}_{hd}$')\n",
    "plt.ylabel('Occurrences')\n",
    "plt.xlim(right=4)\n",
    "plt.show()"
   ]
  },
  {
   "cell_type": "code",
   "execution_count": null,
   "metadata": {},
   "outputs": [],
   "source": [
    "output_list[0].Maturation_date_discrepancy.describe().iloc[1:]"
   ]
  },
  {
   "cell_type": "code",
   "execution_count": null,
   "metadata": {},
   "outputs": [],
   "source": [
    "idx_maturation = output_list[0].Maturation_date_discrepancy[(output_list[0].Maturation_date_discrepancy>=2)&\n",
    "                                          (output_list[0].Maturation_date_discrepancy<=3)].index"
   ]
  },
  {
   "cell_type": "code",
   "execution_count": null,
   "metadata": {},
   "outputs": [],
   "source": [
    "date_cluster = sample.loc[pd.IndexSlice[:,idx_maturation],:].groupby(level=1)['Date'].value_counts()"
   ]
  },
  {
   "cell_type": "code",
   "execution_count": null,
   "metadata": {},
   "outputs": [],
   "source": [
    "date_cluster.groupby(level=0).size().describe()"
   ]
  },
  {
   "cell_type": "code",
   "execution_count": null,
   "metadata": {},
   "outputs": [],
   "source": [
    "date_cluster2 = date_cluster.copy()\n",
    "date_cluster2 = date_cluster2.droplevel(1).reset_index()\n",
    "date_cluster2['Dates']=date_cluster.index.get_level_values(1)"
   ]
  },
  {
   "cell_type": "code",
   "execution_count": null,
   "metadata": {},
   "outputs": [],
   "source": [
    "date_cluster2.groupby('random_index')['Dates'].diff().describe()"
   ]
  },
  {
   "cell_type": "code",
   "execution_count": null,
   "metadata": {},
   "outputs": [],
   "source": [
    "date_cluster2.groupby('random_index')['Dates'].describe()['mean'].describe()"
   ]
  },
  {
   "cell_type": "code",
   "execution_count": null,
   "metadata": {},
   "outputs": [],
   "source": [
    "output_list[0].Maturation_date_discrepancy[output_list[0].Maturation_date_discrepancy>4]"
   ]
  },
  {
   "cell_type": "code",
   "execution_count": null,
   "metadata": {},
   "outputs": [],
   "source": [
    "sample_requirement.loc[11521]"
   ]
  },
  {
   "cell_type": "code",
   "execution_count": null,
   "metadata": {},
   "outputs": [],
   "source": [
    "output_list[0].Hourman_deficit.plot.hist(bins=100,alpha=.5,color='tab:blue')\n",
    "plt.axvline(x=0,color='black',linestyle='dotted')\n",
    "plt.xlabel('${De}_{l}$')\n",
    "plt.ylabel('Occurrences')\n",
    "plt.show()"
   ]
  },
  {
   "cell_type": "code",
   "execution_count": null,
   "metadata": {},
   "outputs": [],
   "source": [
    "len(output_list[0].Hourman_deficit[output_list[0].Hourman_deficit<=0])/16383"
   ]
  },
  {
   "cell_type": "code",
   "execution_count": null,
   "metadata": {},
   "outputs": [],
   "source": [
    "output_list[0].Hourman_deficit.describe()"
   ]
  },
  {
   "cell_type": "code",
   "execution_count": null,
   "metadata": {},
   "outputs": [],
   "source": [
    "output_list[0].Hourman_deficit[output_list[0].Hourman_deficit>1600]"
   ]
  },
  {
   "cell_type": "code",
   "execution_count": null,
   "metadata": {},
   "outputs": [],
   "source": [
    "sample_requirement.loc[15684]"
   ]
  },
  {
   "cell_type": "code",
   "execution_count": null,
   "metadata": {},
   "outputs": [],
   "source": [
    "manpower_available.loc[15684]"
   ]
  },
  {
   "cell_type": "code",
   "execution_count": null,
   "metadata": {},
   "outputs": [],
   "source": [
    "dw = pd.Series([len(days_worked_dict[d]) for d in days_worked_dict])\n",
    "dw.describe()"
   ]
  },
  {
   "cell_type": "code",
   "execution_count": null,
   "metadata": {},
   "outputs": [],
   "source": [
    "Hourman_deficit_worker_df.plot.hist(stacked=True,bins=100,alpha=.75)\n",
    "plt.axvline(x=0,color='black',linestyle='dotted')\n",
    "plt.axvline(x=500,color='brown',linestyle='dotted')\n",
    "plt.axvline(x=1000,color='orange',linestyle='dotted')\n",
    "plt.xlabel('${De}_{l}$')\n",
    "plt.ylabel('Occurrences')\n",
    "plt.show()"
   ]
  },
  {
   "cell_type": "code",
   "execution_count": null,
   "metadata": {},
   "outputs": [],
   "source": [
    "Hourman_deficit_extrahours_df.plot.hist(stacked=True,bins=100,alpha=.75)\n",
    "plt.axvline(x=0,color='black',linestyle='dotted')\n",
    "plt.axvline(x=500,color='brown',linestyle='dotted')\n",
    "plt.axvline(x=1000,color='orange',linestyle='dotted')\n",
    "plt.xlabel('${De}_{l}$')\n",
    "plt.ylabel('Occurrences')\n",
    "plt.show()"
   ]
  },
  {
   "cell_type": "code",
   "execution_count": null,
   "metadata": {},
   "outputs": [],
   "source": [
    "lots_workers_failing = output_list[0].Hourman_deficit.loc[sample[sample.Workers==17].index.get_level_values(1).drop_duplicates()].index.intersection(\n",
    "output_list[0].Hourman_deficit.loc[output_list[0].Hourman_deficit>0].index)"
   ]
  },
  {
   "cell_type": "code",
   "execution_count": null,
   "metadata": {},
   "outputs": [],
   "source": [
    "lots_workers_extra_failing = output_list[0].Hourman_deficit.loc[sample[(sample.Workers==17)&\\\n",
    "                    (sample.Hours_extra==10)].index.get_level_values(1).drop_duplicates()].index.intersection(\n",
    "output_list[0].Hourman_deficit.loc[output_list[0].Hourman_deficit>0].index)"
   ]
  },
  {
   "cell_type": "code",
   "execution_count": null,
   "metadata": {},
   "outputs": [],
   "source": [
    "len(lots_workers_extra_failing)"
   ]
  },
  {
   "cell_type": "code",
   "execution_count": null,
   "metadata": {},
   "outputs": [],
   "source": [
    "len(lots_workers_failing)/(len(sample[sample.Workers==17])/19)"
   ]
  },
  {
   "cell_type": "code",
   "execution_count": null,
   "metadata": {},
   "outputs": [],
   "source": [
    "(len(sample[sample.Workers==17])/19)"
   ]
  },
  {
   "cell_type": "code",
   "execution_count": null,
   "metadata": {},
   "outputs": [],
   "source": [
    "(len(sample[(sample.Workers==17)&(sample.Hours_extra==10)])/19)"
   ]
  },
  {
   "cell_type": "code",
   "execution_count": null,
   "metadata": {},
   "outputs": [],
   "source": [
    "w17_failing = manpower_available.loc[lots_workers_failing]\n",
    "(w17_failing.groupby(level=0).size()).describe()"
   ]
  },
  {
   "cell_type": "code",
   "execution_count": null,
   "metadata": {},
   "outputs": [],
   "source": [
    "w17_extra_failing = manpower_available.loc[lots_workers_extra_failing]\n",
    "(w17_extra_failing.groupby(level=0).size()).describe()"
   ]
  },
  {
   "cell_type": "code",
   "execution_count": null,
   "metadata": {},
   "outputs": [],
   "source": [
    "w17_failing.groupby(level=0).size().sort_values()"
   ]
  },
  {
   "cell_type": "code",
   "execution_count": null,
   "metadata": {},
   "outputs": [],
   "source": [
    "deficit = [12196, 1819, 13963, 8444]\n",
    "for d in deficit:\n",
    "    sr17 = sample_requirement.loc[d].set_index('Date')['Hourman']\n",
    "    s_sum = (sr17-manpower_available.loc[d].iloc[:,0])[sr17.index].fillna(sr17)\n",
    "    print(s_sum)\n",
    "    print(s_sum.sum())"
   ]
  },
  {
   "cell_type": "code",
   "execution_count": null,
   "metadata": {},
   "outputs": [],
   "source": [
    "sr17 = sample_requirement.loc[8444].set_index('Date')['Hourman']"
   ]
  },
  {
   "cell_type": "code",
   "execution_count": null,
   "metadata": {},
   "outputs": [],
   "source": [
    "(sr17-manpower_available.loc[8444].iloc[:,0])[sr17.index].fillna(sr17)"
   ]
  },
  {
   "cell_type": "code",
   "execution_count": null,
   "metadata": {},
   "outputs": [],
   "source": [
    "manpower_available.loc[output_list[0][output_list[0].Hourman_deficit>0].index].groupby(level=0).size().describe()"
   ]
  },
  {
   "cell_type": "code",
   "execution_count": null,
   "metadata": {},
   "outputs": [],
   "source": [
    "S_output[1].to_csv('S.csv', header = True, index = False)"
   ]
  },
  {
   "cell_type": "code",
   "execution_count": null,
   "metadata": {},
   "outputs": [],
   "source": [
    "for it,To in enumerate(T_output):\n",
    "    fig, ax = plt.subplots(figsize=(20,10))\n",
    "    for iv,v in enumerate(variables):\n",
    "        ax.set_xticklabels(labels=variables,rotation='vertical')\n",
    "    To.plot(kind='box',ax=ax,label='T', color='b',patch_artist=True)\n",
    "#     To.plot(kind='box',label='T', color='b',patch_artist=True)\n",
    "    S_output[it].plot(kind='box',ax=ax,label='S',positions=[iv+0.5 for iv in range(len(variables))],\n",
    "                                              color='r',patch_artist=True)\n",
    "#     T_output[it].plot(kind='box',ax=ax,label='S',positions=[iv for iv in range(len(variables))],\n",
    "#                                           color='r',patch_artist=True)\n",
    "#     S_output[it].plot(kind='box',ax=ax,label='S',\n",
    "#                                               color='r',patch_artist=True)\n",
    "    m_patch = mpatches.Patch(color='b', label='T')\n",
    "    c_patch = mpatches.Patch(color='r', label='S')\n",
    "    plt.xticks(np.arange(len(To.columns))+.75,('$y_{n,w}$','$y_{u,w}$','$p_{n}$','$p_{u}$','${hd}_{n,w}$','${hd}_{u,w}$',\n",
    "                                          '$y_{trigger}$','$p_{trigger}$','${hd}_{trigger}$',\n",
    "                                          '$l$','$rt_{trigger}$','$h_{trigger}$','$SU$','${SU}_{trigger}$',\n",
    "                                          '$r$'),rotation=45)\n",
    "#     plt.xticks([iv+1 for iv in range(len(variables))],labels=variables,rotation='vertical')\n",
    "    plt.legend(handles=[m_patch,c_patch])\n",
    "    plt.xlim(0,15.5)\n",
    "    plt.ylim(-.1,.5)\n",
    "#     plt.show()\n",
    "#     plt.title(output_list[it].columns[it])\n",
    "    plt.rcParams.update({'font.size': 24})\n",
    "    plt.show()\n",
    "    \n",
    "#     S_output[it].plot(kind='box',label='S',\n",
    "#                                               color='r',patch_artist=True)\n",
    "#     c_patch = mpatches.Patch(color='r', label='S')\n",
    "#     plt.legend(handles=[c_patch])\n",
    "# #     plt.legend(handles=[m_patch])\n",
    "#     plt.xticks([iv+1 for iv in range(len(variables))],labels=variables,rotation='vertical')\n",
    "#     plt.xlim(0,15.5)\n",
    "#     plt.ylim(-.1,1)\n",
    "#     plt.title(output_list[it].columns[it])\n",
    "#     plt.plot(figsize=(20,10),dpi=300)\n",
    "#     plt.show()"
   ]
  },
  {
   "cell_type": "code",
   "execution_count": null,
   "metadata": {},
   "outputs": [],
   "source": [
    "len(T_output[0].columns)==len(variables)"
   ]
  },
  {
   "cell_type": "code",
   "execution_count": null,
   "metadata": {},
   "outputs": [],
   "source": [
    "T_output[-1].Workers.describe()"
   ]
  },
  {
   "cell_type": "code",
   "execution_count": null,
   "metadata": {},
   "outputs": [],
   "source": [
    "S_output[-1].Workers.describe()"
   ]
  },
  {
   "cell_type": "code",
   "execution_count": null,
   "metadata": {},
   "outputs": [],
   "source": [
    "T_output[-1].Rain.describe()"
   ]
  },
  {
   "cell_type": "code",
   "execution_count": null,
   "metadata": {},
   "outputs": [],
   "source": [
    "S_output[-1].Rain.describe()"
   ]
  },
  {
   "cell_type": "code",
   "execution_count": null,
   "metadata": {},
   "outputs": [],
   "source": [
    "T_output[-1][['Workers','Rain']].sum(axis=1).describe()"
   ]
  },
  {
   "cell_type": "code",
   "execution_count": null,
   "metadata": {},
   "outputs": [],
   "source": [
    "T_output[-1].sum(axis=1).describe()"
   ]
  },
  {
   "cell_type": "code",
   "execution_count": null,
   "metadata": {},
   "outputs": [],
   "source": [
    "S_output[-1][['Workers','Rain']].sum(axis=1).describe()"
   ]
  },
  {
   "cell_type": "code",
   "execution_count": null,
   "metadata": {},
   "outputs": [],
   "source": [
    "S_output[-1].sum(axis=1).describe()"
   ]
  },
  {
   "cell_type": "code",
   "execution_count": null,
   "metadata": {},
   "outputs": [],
   "source": [
    "surplus = output_list[0][output_list[0].Hourman_deficit<0]\n",
    "deficit = output_list[0][~output_list[0].index.isin(surplus.index)]\n",
    "plt.scatter(sM_A[0].Workers.loc[1,surplus.index],surplus.Hourman_deficit, color='g',s = .01)\n",
    "plt.scatter(sM_A[0].Workers.loc[1,deficit.index],deficit.Hourman_deficit, color='r', s = .01)\n",
    "plt.show()"
   ]
  },
  {
   "cell_type": "code",
   "execution_count": null,
   "metadata": {},
   "outputs": [],
   "source": [
    "for s in S_output[-1]:\n",
    "    print(S_output[-1][s].describe())"
   ]
  },
  {
   "cell_type": "code",
   "execution_count": null,
   "metadata": {},
   "outputs": [],
   "source": [
    "S_output[-1].sum(axis=1).describe()"
   ]
  },
  {
   "cell_type": "code",
   "execution_count": null,
   "metadata": {},
   "outputs": [],
   "source": [
    "T_output[-1].sum(axis=1).describe()"
   ]
  },
  {
   "cell_type": "code",
   "execution_count": null,
   "metadata": {},
   "outputs": [],
   "source": [
    "for t in T_output[-1]:\n",
    "    print(T_output[-1][t].describe())"
   ]
  },
  {
   "cell_type": "code",
   "execution_count": null,
   "metadata": {},
   "outputs": [],
   "source": [
    "variables_no_Workers = ['Yield_gaussian','Yield_uniform','Productivity_gaussian','Productivity_uniform',\n",
    "             'Date_gaussian','Date_uniform','Yield','Productivity','Date',\n",
    "            'Rain_trigger','Hours_extra','Sundays_work','Sundays','Rain']\n",
    "Hourman_deficit_worker_list = []\n",
    "for h in Hourman_deficit_worker:\n",
    "    seed_w = h.sample(n=1_000*len(h),replace=True).index\n",
    "    new_index_w = [r for r in range(1000) for i in range(len(h))]\n",
    "    output_bootstrap_w = []\n",
    "    for o in output_list:\n",
    "        o_df = o.Hourman_deficit.reindex(seed_w)\n",
    "        o_df.index = new_index_w\n",
    "        output_bootstrap_w.append(o_df)\n",
    "    Var_w = pd.concat([output_bootstrap_w[0],output_bootstrap_w[-1]],axis=0).groupby(pd.concat([output_bootstrap_w[0],\n",
    "                                                                output_bootstrap_w[-1]],axis=0).index).var(ddof=0)\n",
    "    T_list_w = []\n",
    "    S_list_w = []\n",
    "    for eo, o in enumerate(output_bootstrap_w[1:-1]):\n",
    "        if eo == 9:\n",
    "            pass\n",
    "        else:\n",
    "            T_list_w.append(0.5*((o-output_bootstrap_w[0])**2).groupby(o.index).mean()/Var_w)\n",
    "            S_list_w.append((output_bootstrap_w[-1]*(o-output_bootstrap_w[0])).groupby(o.index).mean()/Var_w)\n",
    "    T_output_w = pd.concat(T_list_w,axis=1)\n",
    "    S_output_w = pd.concat(S_list_w,axis=1)\n",
    "    T_output_w.columns=variables_no_Workers\n",
    "    S_output_w.columns=variables_no_Workers\n",
    "    Hourman_deficit_worker_list.append([S_output_w,T_output_w])"
   ]
  },
  {
   "cell_type": "code",
   "execution_count": null,
   "metadata": {},
   "outputs": [],
   "source": [
    "for eh,h in enumerate(Hourman_deficit_worker_list):\n",
    "    fig, ax = plt.subplots(figsize=(20,10))\n",
    "#     for iv,v in enumerate(variables):\n",
    "#     ax.set_xticklabels(labels=variables,rotation='vertical')\n",
    "    h[1].plot(kind='box',ax=ax,label='T', color='b',patch_artist=True)\n",
    "#     To.plot(kind='box',label='T', color='b',patch_artist=True)\n",
    "    h[0].plot(kind='box',ax=ax,label='S',positions=[iv+0.5 for iv in range(len(variables_no_Workers))],\n",
    "                                              color='r',patch_artist=True)\n",
    "#     S_output[it].plot(kind='box',ax=ax,label='S',\n",
    "#                                               color='r',patch_artist=True)\n",
    "    m_patch = mpatches.Patch(color='b', label='T')\n",
    "    c_patch = mpatches.Patch(color='r', label='S')\n",
    "#     plt.xticks([iv+1 for iv in range(len(variables_no_Workers))],\n",
    "#                labels=variables_no_Workers,rotation='vertical')\n",
    "    plt.xticks(rotation='vertical')\n",
    "    plt.legend(handles=[m_patch,c_patch])\n",
    "    plt.xlim(0,14.5)\n",
    "    plt.ylim(-.1,1)\n",
    "    plt.title(output_list[it].columns[it]+'_'+str(Hourman_deficit_worker_df.columns[eh]))\n",
    "    fig = plt.plot(figsize=(20,10),dpi=1000)\n",
    "    plt.show()"
   ]
  },
  {
   "cell_type": "code",
   "execution_count": null,
   "metadata": {},
   "outputs": [],
   "source": [
    "variables_reduced = ['Date_trigger','Workers']\n",
    "for To in output.columns:\n",
    "    for iv,v in enumerate(variables_reduced):\n",
    "        plt.figure(figsize=(20,10))\n",
    "        plt.scatter(sM_A[0][v].loc[1],output_list[0][To],s = 1,label=To+'_'+v)\n",
    "        plt.legend()\n",
    "        plt.show()"
   ]
  },
  {
   "cell_type": "code",
   "execution_count": null,
   "metadata": {},
   "outputs": [],
   "source": [
    "variables_grouped = [['Yield_gaussian','Yield_uniform','Date_gaussian','Date_uniform','Rain'],\n",
    "                     ['Yield','Date','Productivity','Productivity_gaussian','Productivity_uniform','Sundays'],\n",
    "            ['Workers','Rain_trigger','Hours_extra','Sundays_work']]\n",
    "\n",
    "output_group = []\n",
    "\n",
    "sample_requirement=pd.DataFrame(sample.groupby(['random_index','Date'])['Hourman'].sum())\n",
    "\n",
    "days_worked_dict = {}\n",
    "for es,s in sample.groupby(level=1):\n",
    "    days_no_rain = rain.index[sample_rain.loc[pd.IndexSlice[:,es],s.loc[1,'Rain_trigger'].values[0]]]\n",
    "    days_worked_values = np.tile((s.Workers*s.Hours_extra).iloc[0],len(days_no_rain))\n",
    "    if s.loc[1,'Sundays_work'].values[0] == False:\n",
    "        days_worked = days_no_rain.intersection(rain.index[~rain.index.isin(s.loc[1,'Sundays'].values[0])])\n",
    "        days_worked_values = np.tile((s.Workers*s.Hours_extra).iloc[0],len(days_worked))\n",
    "        days_worked_dict[es] = pd.DataFrame(days_worked_values,index=days_worked)\n",
    "    else:\n",
    "        days_worked_dict[es] = pd.DataFrame(days_worked_values,index=days_no_rain)\n",
    "\n",
    "manpower_available=pd.concat(days_worked_dict[es] for es in days_worked_dict.keys())\n",
    "manpower_available['random_index'] = [es for es in days_worked_dict.keys() for r in range(len(days_worked_dict[es]))]\n",
    "manpower_available = manpower_available.set_index(['random_index',manpower_available.index])\n",
    "\n",
    "manpower_available.index=manpower_available.index.set_names(['random_index','Date'])\n",
    "manpower_available.columns=['Hourman']\n",
    "\n",
    "difference=(sample_requirement-manpower_available).loc[sample_requirement.index].fillna(sample_requirement)\n",
    "\n",
    "# difference.loc[difference.Hourman<0,'Hourman']=0\n",
    "\n",
    "sample_requirement = sample_requirement.reset_index()\n",
    "sample_requirement.index = sample_requirement.random_index\n",
    "\n",
    "output = pd.concat([(np.abs(sample_requirement.Hourman-\\\n",
    "sample_requirement.groupby(sample_requirement.index)['Hourman'].mean())).groupby(sample_requirement.index).sum()/\\\n",
    "(sample_requirement.groupby(sample_requirement.index).size()-1),\n",
    "                    sample_requirement.groupby(sample_requirement.index)['Date'].diff().groupby(sample_requirement.index).sum()/\\\n",
    "(sample_requirement.groupby(sample_requirement.index).size()-1),\n",
    "                   difference.groupby('random_index').sum()],axis=1)\n",
    "output.columns = ['Hourman_discrepancy','Maturation_date_discrepancy','Hourman_deficit']\n",
    "\n",
    "output_group = [output]\n",
    "\n",
    "variables = ['Yield_gaussian','Yield_uniform','Productivity_gaussian','Productivity_uniform',\n",
    "             'Date_gaussian','Date_uniform','Yield','Productivity','Date',\n",
    "            'Workers','Rain_trigger','Hours_extra','Sundays_work','Sundays','Rain']\n",
    "\n",
    "sM_G = [sample]\n",
    "\n",
    "for v in variables_grouped:\n",
    "    sM_G.append(sample.copy())\n",
    "    if 'Rain' not in v:\n",
    "        sM_G[-1][v]=sampleB[v]\n",
    "    \n",
    "    yield_list, productivity_list, date_list = [],[],[]\n",
    "    for es,s in enumerate(sM_G[-1].iloc[:,:2].values):\n",
    "        if 'Yield' in v:\n",
    "            yield_list.append(s[np.tile(sampleTot[20].round(0).astype(int), len(wineyard))[es]])\n",
    "        else:\n",
    "            yield_list.append(s[np.tile(sampleTot[6].round(0).astype(int), len(wineyard))[es]])\n",
    "        if 'Productivity' in v:\n",
    "            productivity_list.append(sM_G[-1].iloc[es,2:4][np.tile(sampleTot[21].round(0).astype(int), len(wineyard))[es]])\n",
    "        else:\n",
    "            productivity_list.append(sM_G[-1].iloc[es,2:4][np.tile(sampleTot[7].round(0).astype(int), len(wineyard))[es]])\n",
    "        if 'Date in v':\n",
    "            date_list.append(sM_G[-1].iloc[es,4:6][np.tile(sampleTot[22].round(0).astype(int), len(wineyard))[es]])\n",
    "        else:\n",
    "            date_list.append(sM_G[-1].iloc[es,4:6][np.tile(sampleTot[8].round(0).astype(int), len(wineyard))[es]])\n",
    "\n",
    "    sM_G[-1]['Yield']= yield_list\n",
    "    sM_G[-1]['Productivity']= productivity_list\n",
    "    sM_G[-1]['Date']= date_list\n",
    "       \n",
    "    sM_G[-1]['Hourman']=(sM_G[-1].Yield/sM_G[-1].Productivity).round(0).astype(int)\n",
    "    \n",
    "    sample_requirement=pd.DataFrame(sM_G[-1].groupby(['random_index','Date'])['Hourman'].sum())\n",
    "\n",
    "    #set_days_available_when_not_raining and exclude Sundays if not in the trigger\n",
    "    days_worked_dict = {}\n",
    "    for es,s in sM_G[-1].groupby(level=1):\n",
    "        if 'Rain' in v:\n",
    "            days_no_rain = rain.index[sample_rainB.loc[pd.IndexSlice[:,es],s.loc[1,'Rain_trigger'].values[0]]]\n",
    "        else:\n",
    "            days_no_rain = rain.index[sample_rain.loc[pd.IndexSlice[:,es],s.loc[1,'Rain_trigger'].values[0]]]\n",
    "        days_worked_values = np.tile((s.Workers*s.Hours_extra).iloc[0],len(days_no_rain))\n",
    "        if s.loc[1,'Sundays_work'].values[0] == False:\n",
    "            days_worked = days_no_rain.intersection(rain.index[~rain.index.isin(s.loc[1,'Sundays'].values[0])])\n",
    "            days_worked_values = np.tile((s.Workers*s.Hours_extra).iloc[0],len(days_worked))\n",
    "            days_worked_dict[es] = pd.DataFrame(days_worked_values,index=days_worked)\n",
    "        else:\n",
    "            days_worked_dict[es] = pd.DataFrame(days_worked_values,index=days_no_rain)\n",
    "\n",
    "    manpower_available=pd.concat(days_worked_dict[es] for es in days_worked_dict.keys())\n",
    "    manpower_available['random_index'] = [es for es in days_worked_dict.keys() for r in range(len(days_worked_dict[es]))]\n",
    "    manpower_available = manpower_available.set_index(['random_index',manpower_available.index])\n",
    "\n",
    "    manpower_available.index=manpower_available.index.set_names(['random_index','Date'])\n",
    "    manpower_available.columns=['Hourman']\n",
    "\n",
    "    difference=(sample_requirement-manpower_available).loc[sample_requirement.index].fillna(sample_requirement)\n",
    "    \n",
    "#     difference.loc[difference.Hourman<0,'Hourman']=0\n",
    "\n",
    "\n",
    "    sample_requirement = sample_requirement.reset_index()\n",
    "    sample_requirement.index = sample_requirement.random_index\n",
    "\n",
    "    output = pd.concat([(np.abs(sample_requirement.Hourman-\\\n",
    "    sample_requirement.groupby(sample_requirement.index)['Hourman'].mean())).groupby(sample_requirement.index).sum()/\\\n",
    "    (sample_requirement.groupby(sample_requirement.index).size()-1),\n",
    "                        sample_requirement.groupby(sample_requirement.index)['Date'].diff().groupby(sample_requirement.index).sum()/\\\n",
    "    (sample_requirement.groupby(sample_requirement.index).size()-1),\n",
    "                       difference.groupby('random_index').sum()],axis=1)\n",
    "    output.columns = ['Hourman_discrepancy','Maturation_date_discrepancy','Hourman_deficit']\n",
    "    output_group.append(output)\n",
    "    \n",
    "sM_G.append(sampleB)\n",
    "\n",
    "sample_requirement=pd.DataFrame(sampleB.groupby(['random_index','Date'])['Hourman'].sum())\n",
    "\n",
    "days_worked_dict = {}\n",
    "for es,s in sampleB.groupby(level=1):\n",
    "    days_no_rain = rain.index[sample_rainB.loc[pd.IndexSlice[:,es],s.loc[1,'Rain_trigger'].values[0]]]\n",
    "    days_worked_values = np.tile((s.Workers*s.Hours_extra).iloc[0],len(days_no_rain))\n",
    "    if s.loc[1,'Sundays_work'].values[0] == False:\n",
    "        days_worked = days_no_rain.intersection(rain.index[~rain.index.isin(s.loc[1,'Sundays'].values[0])])\n",
    "        days_worked_values = np.tile((s.Workers*s.Hours_extra).iloc[0],len(days_worked))\n",
    "        days_worked_dict[es] = pd.DataFrame(days_worked_values,index=days_worked)\n",
    "    else:\n",
    "        days_worked_dict[es] = pd.DataFrame(days_worked_values,index=days_no_rain)\n",
    "\n",
    "manpower_available=pd.concat(days_worked_dict[es] for es in days_worked_dict.keys())\n",
    "manpower_available['random_index'] = [es for es in days_worked_dict.keys() for r in range(len(days_worked_dict[es]))]\n",
    "manpower_available = manpower_available.set_index(['random_index',manpower_available.index])\n",
    "\n",
    "manpower_available.index=manpower_available.index.set_names(['random_index','Date'])\n",
    "manpower_available.columns=['Hourman']\n",
    "\n",
    "difference=(sample_requirement-manpower_available).loc[sample_requirement.index].fillna(sample_requirement)\n",
    "\n",
    "# difference.loc[difference.Hourman<0,'Hourman']=0\n",
    "\n",
    "sample_requirement = sample_requirement.reset_index()\n",
    "sample_requirement.index = sample_requirement.random_index\n",
    "\n",
    "output = pd.concat([(np.abs(sample_requirement.Hourman-\\\n",
    "sample_requirement.groupby(sample_requirement.index)['Hourman'].mean())).groupby(sample_requirement.index).sum()/\\\n",
    "(sample_requirement.groupby(sample_requirement.index).size()-1),\n",
    "                    sample_requirement.groupby(sample_requirement.index)['Date'].diff().groupby(sample_requirement.index).sum()/\\\n",
    "(sample_requirement.groupby(sample_requirement.index).size()-1),\n",
    "                   difference.groupby('random_index').sum()],axis=1)\n",
    "output.columns = ['Hourman_discrepancy','Maturation_date_discrepancy','Hourman_deficit']\n",
    "output_group.append(output)"
   ]
  },
  {
   "cell_type": "code",
   "execution_count": null,
   "metadata": {},
   "outputs": [],
   "source": [
    "output_bs_group = []\n",
    "for eo, o in enumerate(output_group):\n",
    "    o_df = o.reindex(seed)\n",
    "    o_df.index = new_index\n",
    "    output_bs_group.append(o_df)\n",
    "    \n",
    "Var = pd.concat([output_bs_group[0],output_bs_group[-1]],axis=0).groupby(pd.concat([output_bs_group[0],\n",
    "                                                            output_bs_group[-1]],axis=0).index).var(ddof=0)\n",
    "T_list_g = []\n",
    "S_list_g = []\n",
    "for eo, o in enumerate(output_bs_group[1:-1]):\n",
    "    T_list_g.append(0.5*((o-output_bs_group[0])**2).groupby(o.index).mean()/Var)\n",
    "#     S_list.append(2*((output_bootstrapB[eo]-output_bootstrap[-1])*(output_bootstrap[0]-o)).groupby(o.index).mean()/\\\n",
    "#                  (((output_bootstrap[0]-output_bootstrap[-1])**2)*((output_bootstrapB[eo]-o)**2)).groupby(o.index).mean())\n",
    "    S_list_g.append((output_bs_group[-1]*(o-output_bs_group[0])).groupby(o.index).mean()/Var)\n",
    "T_output_group = [pd.concat([T.iloc[:,c] for T in T_list_g],axis=1) for c in range(len(T_list_g[0].columns))]\n",
    "S_output_group = [pd.concat([S.iloc[:,c] for S in S_list_g],axis=1) for c in range(len(S_list_g[0].columns))]\n",
    "for To in T_output_group:\n",
    "    To.columns=['Nature','Modelling and randomness','Managerial']\n",
    "for So in S_output_group:\n",
    "    So.columns=To.columns"
   ]
  },
  {
   "cell_type": "code",
   "execution_count": null,
   "metadata": {},
   "outputs": [],
   "source": [
    "for it,To in enumerate(T_output_group):\n",
    "    fig, ax = plt.subplots(figsize=(20,10))\n",
    "#     for iv,v in enumerate(variables):\n",
    "#     ax.set_xticklabels(labels=variables,rotation='vertical')\n",
    "    To.plot(kind='box',ax=ax,label='T', color='b',patch_artist=True)\n",
    "#     To.plot(kind='box',label='T', color='b',patch_artist=True)\n",
    "    S_output_group[it].plot(kind='box',ax=ax,label='S',positions=[iv+0.5 for iv in range(len(variables_grouped))],\n",
    "                                              color='r',patch_artist=True)\n",
    "#     S_output[it].plot(kind='box',ax=ax,label='S',\n",
    "#                                               color='r',patch_artist=True)\n",
    "    m_patch = mpatches.Patch(color='b', label='T')\n",
    "    c_patch = mpatches.Patch(color='r', label='S')\n",
    "    plt.xticks(np.arange(len(To.columns))+.75)\n",
    "#     plt.xticks([iv+1 for iv in range(len(variables))],labels=variables,rotation='vertical')\n",
    "    plt.legend(handles=[m_patch,c_patch])\n",
    "    plt.xlim(0,len(To.columns)+.5)\n",
    "    plt.ylim(-.1,1.1)\n",
    "#     plt.title(output_list[it].columns[it])\n",
    "    fig = plt.plot(figsize=(20,10),dpi=1000)\n",
    "    plt.show()\n",
    "    \n",
    "#     S_output[it].plot(kind='box',label='S',\n",
    "#                                               color='r',patch_artist=True)\n",
    "#     c_patch = mpatches.Patch(color='r', label='S')\n",
    "#     plt.legend(handles=[c_patch])\n",
    "# #     plt.legend(handles=[m_patch])\n",
    "#     plt.xticks([iv+1 for iv in range(len(variables))],labels=variables,rotation='vertical')\n",
    "#     plt.xlim(0,15.5)\n",
    "#     plt.ylim(-.1,1)\n",
    "#     plt.title(output_list[it].columns[it])\n",
    "#     plt.plot(figsize=(20,10),dpi=300)\n",
    "#     plt.show()"
   ]
  },
  {
   "cell_type": "code",
   "execution_count": null,
   "metadata": {},
   "outputs": [],
   "source": [
    "S_output_group[-1].Managerial.describe()"
   ]
  },
  {
   "cell_type": "code",
   "execution_count": null,
   "metadata": {},
   "outputs": [],
   "source": [
    "T_output_group[-1].Managerial.describe()"
   ]
  },
  {
   "cell_type": "code",
   "execution_count": null,
   "metadata": {},
   "outputs": [],
   "source": [
    "S_output_group[-1].sum(axis=1).describe()"
   ]
  },
  {
   "cell_type": "code",
   "execution_count": null,
   "metadata": {},
   "outputs": [],
   "source": [
    "T_output_group[-1].sum(axis=1).describe()"
   ]
  },
  {
   "cell_type": "code",
   "execution_count": null,
   "metadata": {},
   "outputs": [],
   "source": [
    "(T_output_group[-1]-S_output_group[-1]).describe()"
   ]
  },
  {
   "cell_type": "code",
   "execution_count": null,
   "metadata": {},
   "outputs": [],
   "source": []
  }
 ],
 "metadata": {
  "kernelspec": {
   "display_name": "Python 3 (ipykernel)",
   "language": "python",
   "name": "python3"
  },
  "language_info": {
   "codemirror_mode": {
    "name": "ipython",
    "version": 3
   },
   "file_extension": ".py",
   "mimetype": "text/x-python",
   "name": "python",
   "nbconvert_exporter": "python",
   "pygments_lexer": "ipython3",
   "version": "3.7.12"
  }
 },
 "nbformat": 4,
 "nbformat_minor": 4
}
